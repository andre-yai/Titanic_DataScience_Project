{
 "cells": [
  {
   "cell_type": "markdown",
   "metadata": {},
   "source": [
    "# Titanic: Machine Learning from Disaster\n",
    "\n",
    "By: André Kenji Yai"
   ]
  },
  {
   "cell_type": "markdown",
   "metadata": {},
   "source": [
    "## Workflow\n",
    "\n",
    "### Dataset/Questions\n",
    "\n",
    "    - Defining our question \n",
    "    - Import dataset\n",
    "    - Enough data\n",
    "    - Enough/right features to measure question\n",
    "\n",
    "### Data Understanding\n",
    "\n",
    "    - Exploration\n",
    "    - Creation new features\n",
    "\n",
    "### Data Preparation\n",
    "\n",
    "    - Data Missing\n",
    "    - Feature Engineering\n",
    "    - Feature Selection\n",
    "    \n",
    "### Model\n",
    "\n",
    "    - Picking an algorithm\n",
    "    - Tunning your algorithm\n",
    "\n",
    "### Validation/Evaluation\n",
    "    -  Validate: train/test ,k-fold\n",
    "    - Evaluate: accuracy, precision, F1 score, custom bias/variance\n"
   ]
  },
  {
   "cell_type": "markdown",
   "metadata": {},
   "source": [
    "## I. Dataset/Question"
   ]
  },
  {
   "cell_type": "markdown",
   "metadata": {},
   "source": [
    "## Question: \n",
    "Predict survival on the Titanic "
   ]
  },
  {
   "cell_type": "markdown",
   "metadata": {
    "_cell_guid": "e549f143-16d5-44b3-9cc2-e113299c61d0",
    "_execution_state": "idle",
    "_uuid": "d21cd1e61e83191c19ef0bfe952ab33891e70a63"
   },
   "source": [
    "## Description:\n",
    "\n",
    "The sinking of the RMS Titanic is one of the most infamous shipwrecks in history.  On April 15, 1912, during her maiden voyage, the Titanic sank after colliding with an iceberg, killing 1502 out of 2224 passengers and crew. This sensational tragedy shocked the international community and led to better safety regulations for ships.\n",
    "\n",
    "One of the reasons that the shipwreck led to such loss of life was that there were not enough lifeboats for the passengers and crew. Although there was some element of luck involved in surviving the sinking, some groups of people were more likely to survive than others, such as women, children, and the upper-class.\n",
    "\n",
    "In this challenge, we ask you to complete the analysis of what sorts of people were likely to survive. In particular, we ask you to apply the tools of machine learning to predict which passengers survived the tragedy."
   ]
  },
  {
   "cell_type": "markdown",
   "metadata": {
    "_cell_guid": "f3b1b88b-810e-465f-a033-ec4ad6be93a8",
    "_execution_state": "idle",
    "_uuid": "f8f789ca84c307970c861966aa7ca648275ea02f"
   },
   "source": [
    "![Image](https://ichef.bbci.co.uk/news/624/cpsprodpb/2A7A/production/_95847801_49ce589f-5fba-425f-80f0-39a6ce49bff0.gif)"
   ]
  },
  {
   "cell_type": "markdown",
   "metadata": {
    "_cell_guid": "a7d1120a-f05d-4596-8758-c1ed96c11471",
    "_execution_state": "idle",
    "_uuid": "d11f3b63fd951ea49623e10206a143212247f6ce"
   },
   "source": [
    "### Libraries"
   ]
  },
  {
   "cell_type": "markdown",
   "metadata": {},
   "source": [
    "Pandas and numpy for data analysis and representation.\n",
    "\n",
    "Seaborn and matplot and pandas for visualization. \n",
    "\n",
    "Sklearn for Machine Learning \n"
   ]
  },
  {
   "cell_type": "code",
   "execution_count": 1,
   "metadata": {
    "_cell_guid": "c4ef3108-723b-4b1f-ad93-3c5872a9fcbb",
    "_execution_state": "idle",
    "_uuid": "64599a0ba55b14fca5e4edacb63b00276697e6e5"
   },
   "outputs": [
    {
     "data": {
      "text/html": [
       "\n",
       "<style>\n",
       ".output_png {\n",
       "    display: table-cell;\n",
       "    text-align: center;\n",
       "    vertical-align: middle;\n",
       "}\n",
       "</style>\n"
      ],
      "text/plain": [
       "<IPython.core.display.HTML object>"
      ]
     },
     "execution_count": 1,
     "metadata": {},
     "output_type": "execute_result"
    }
   ],
   "source": [
    "# data analysis and wrangling\n",
    "import pandas as pd\n",
    "import numpy as np\n",
    "import random as rnd\n",
    "\n",
    "# visualization\n",
    "import seaborn as sns\n",
    "import matplotlib.pyplot as plt\n",
    "%matplotlib inline\n",
    "\n",
    "# machine learning\n",
    "from sklearn.linear_model import LogisticRegression\n",
    "from sklearn.ensemble import RandomForestClassifier\n",
    "from sklearn.ensemble import RandomForestRegressor\n",
    "from sklearn.tree import DecisionTreeClassifier\n",
    "from sklearn.model_selection import GridSearchCV\n",
    "from sklearn import tree\n",
    "\n",
    "# Modelling Helpers\n",
    "from sklearn.preprocessing import Imputer , Normalizer , scale\n",
    "from sklearn.model_selection import train_test_split , StratifiedKFold,cross_val_score\n",
    "from sklearn.feature_selection import RFECV\n",
    "\n",
    "# Visualisation\n",
    "import matplotlib as mpl\n",
    "import matplotlib.pyplot as plt\n",
    "import matplotlib.pylab as pylab\n",
    "import seaborn as sns\n",
    "\n",
    "# Configure visualisations\n",
    "%matplotlib inline\n",
    "mpl.style.use( 'ggplot' )\n",
    "sns.set_style( 'white' )\n",
    "pylab.rcParams[ 'figure.figsize' ] = (15 , 8)\n",
    "\n",
    "from IPython.core.display import HTML\n",
    "HTML(\"\"\"\n",
    "<style>\n",
    ".output_png {\n",
    "    display: table-cell;\n",
    "    text-align: center;\n",
    "    vertical-align: middle;\n",
    "}\n",
    "</style>\n",
    "\"\"\")"
   ]
  },
  {
   "cell_type": "markdown",
   "metadata": {
    "_cell_guid": "a3a3de3c-41c5-49f5-ade3-10d2b216419f",
    "_uuid": "d7b67cf327ded3ae6cbdaf54f75e85b372b66b86"
   },
   "source": [
    "### Get the Dataset"
   ]
  },
  {
   "cell_type": "markdown",
   "metadata": {},
   "source": [
    "The train_df will contain our training data, test_df our test data."
   ]
  },
  {
   "cell_type": "code",
   "execution_count": 2,
   "metadata": {
    "_cell_guid": "16d82040-b41c-4614-890e-1fa200c8610f",
    "_execution_state": "idle",
    "_uuid": "0204a86cd2318ef4d3265431ae07d3799935a2a1",
    "collapsed": true
   },
   "outputs": [],
   "source": [
    "train_df = pd.read_csv('./csvs/train.csv')\n",
    "test_df = pd.read_csv('./csvs/test.csv')"
   ]
  },
  {
   "cell_type": "markdown",
   "metadata": {},
   "source": [
    "### Analyse data Fields"
   ]
  },
  {
   "cell_type": "markdown",
   "metadata": {},
   "source": [
    "Let's start lookimg in to training and test set."
   ]
  },
  {
   "cell_type": "code",
   "execution_count": 3,
   "metadata": {
    "collapsed": true
   },
   "outputs": [],
   "source": [
    "def print_shape_columns_info (df):\n",
    "    df_shape = df.shape\n",
    "    print(\"---------------------\")\n",
    "    print(\"Rows: \",df_shape[0],\" Col: \",df_shape[1])\n",
    "    print(\"---------------------\")\n",
    "    print(\"Columns:\",df.columns.values)"
   ]
  },
  {
   "cell_type": "code",
   "execution_count": 4,
   "metadata": {
    "_cell_guid": "f243d4a7-3d0e-4903-9a4d-a2a8760cb015",
    "_execution_state": "idle",
    "_uuid": "b2d773e0c22e239b2a14f0eb7961280224ce68b8"
   },
   "outputs": [
    {
     "name": "stdout",
     "output_type": "stream",
     "text": [
      "Training Data Set:\n",
      "---------------------\n",
      "Rows:  891  Col:  12\n",
      "---------------------\n",
      "Columns: ['PassengerId' 'Survived' 'Pclass' 'Name' 'Sex' 'Age' 'SibSp' 'Parch'\n",
      " 'Ticket' 'Fare' 'Cabin' 'Embarked']\n"
     ]
    }
   ],
   "source": [
    "print(\"Training Data Set:\")\n",
    "print_shape_columns_info(train_df)"
   ]
  },
  {
   "cell_type": "code",
   "execution_count": 5,
   "metadata": {
    "_cell_guid": "b872ffe4-ef3f-4fe3-b5f3-a8be7d74761d",
    "_execution_state": "idle",
    "_uuid": "f3c91c684a3296ad8529c3d15325fc4125e52958"
   },
   "outputs": [
    {
     "name": "stdout",
     "output_type": "stream",
     "text": [
      "Test Data Set:\n",
      "---------------------\n",
      "Rows:  418  Col:  11\n",
      "---------------------\n",
      "Columns: ['PassengerId' 'Pclass' 'Name' 'Sex' 'Age' 'SibSp' 'Parch' 'Ticket' 'Fare'\n",
      " 'Cabin' 'Embarked']\n"
     ]
    }
   ],
   "source": [
    "print(\"Test Data Set:\")\n",
    "print_shape_columns_info(test_df)"
   ]
  },
  {
   "cell_type": "markdown",
   "metadata": {},
   "source": [
    "Pandas let us take a sneak peak into the dataset."
   ]
  },
  {
   "cell_type": "code",
   "execution_count": 6,
   "metadata": {
    "_cell_guid": "dbb64a45-07ed-4af8-beea-0f7d59d7f178",
    "_execution_state": "idle",
    "_uuid": "417bb80515635b3c34e2a5cb044888ed942acbe4"
   },
   "outputs": [
    {
     "data": {
      "text/html": [
       "<div>\n",
       "<style>\n",
       "    .dataframe thead tr:only-child th {\n",
       "        text-align: right;\n",
       "    }\n",
       "\n",
       "    .dataframe thead th {\n",
       "        text-align: left;\n",
       "    }\n",
       "\n",
       "    .dataframe tbody tr th {\n",
       "        vertical-align: top;\n",
       "    }\n",
       "</style>\n",
       "<table border=\"1\" class=\"dataframe\">\n",
       "  <thead>\n",
       "    <tr style=\"text-align: right;\">\n",
       "      <th></th>\n",
       "      <th>PassengerId</th>\n",
       "      <th>Survived</th>\n",
       "      <th>Pclass</th>\n",
       "      <th>Name</th>\n",
       "      <th>Sex</th>\n",
       "      <th>Age</th>\n",
       "      <th>SibSp</th>\n",
       "      <th>Parch</th>\n",
       "      <th>Ticket</th>\n",
       "      <th>Fare</th>\n",
       "      <th>Cabin</th>\n",
       "      <th>Embarked</th>\n",
       "    </tr>\n",
       "  </thead>\n",
       "  <tbody>\n",
       "    <tr>\n",
       "      <th>0</th>\n",
       "      <td>1</td>\n",
       "      <td>0</td>\n",
       "      <td>3</td>\n",
       "      <td>Braund, Mr. Owen Harris</td>\n",
       "      <td>male</td>\n",
       "      <td>22.0</td>\n",
       "      <td>1</td>\n",
       "      <td>0</td>\n",
       "      <td>A/5 21171</td>\n",
       "      <td>7.2500</td>\n",
       "      <td>NaN</td>\n",
       "      <td>S</td>\n",
       "    </tr>\n",
       "    <tr>\n",
       "      <th>1</th>\n",
       "      <td>2</td>\n",
       "      <td>1</td>\n",
       "      <td>1</td>\n",
       "      <td>Cumings, Mrs. John Bradley (Florence Briggs Th...</td>\n",
       "      <td>female</td>\n",
       "      <td>38.0</td>\n",
       "      <td>1</td>\n",
       "      <td>0</td>\n",
       "      <td>PC 17599</td>\n",
       "      <td>71.2833</td>\n",
       "      <td>C85</td>\n",
       "      <td>C</td>\n",
       "    </tr>\n",
       "    <tr>\n",
       "      <th>2</th>\n",
       "      <td>3</td>\n",
       "      <td>1</td>\n",
       "      <td>3</td>\n",
       "      <td>Heikkinen, Miss. Laina</td>\n",
       "      <td>female</td>\n",
       "      <td>26.0</td>\n",
       "      <td>0</td>\n",
       "      <td>0</td>\n",
       "      <td>STON/O2. 3101282</td>\n",
       "      <td>7.9250</td>\n",
       "      <td>NaN</td>\n",
       "      <td>S</td>\n",
       "    </tr>\n",
       "    <tr>\n",
       "      <th>3</th>\n",
       "      <td>4</td>\n",
       "      <td>1</td>\n",
       "      <td>1</td>\n",
       "      <td>Futrelle, Mrs. Jacques Heath (Lily May Peel)</td>\n",
       "      <td>female</td>\n",
       "      <td>35.0</td>\n",
       "      <td>1</td>\n",
       "      <td>0</td>\n",
       "      <td>113803</td>\n",
       "      <td>53.1000</td>\n",
       "      <td>C123</td>\n",
       "      <td>S</td>\n",
       "    </tr>\n",
       "    <tr>\n",
       "      <th>4</th>\n",
       "      <td>5</td>\n",
       "      <td>0</td>\n",
       "      <td>3</td>\n",
       "      <td>Allen, Mr. William Henry</td>\n",
       "      <td>male</td>\n",
       "      <td>35.0</td>\n",
       "      <td>0</td>\n",
       "      <td>0</td>\n",
       "      <td>373450</td>\n",
       "      <td>8.0500</td>\n",
       "      <td>NaN</td>\n",
       "      <td>S</td>\n",
       "    </tr>\n",
       "  </tbody>\n",
       "</table>\n",
       "</div>"
      ],
      "text/plain": [
       "   PassengerId  Survived  Pclass  \\\n",
       "0            1         0       3   \n",
       "1            2         1       1   \n",
       "2            3         1       3   \n",
       "3            4         1       1   \n",
       "4            5         0       3   \n",
       "\n",
       "                                                Name     Sex   Age  SibSp  \\\n",
       "0                            Braund, Mr. Owen Harris    male  22.0      1   \n",
       "1  Cumings, Mrs. John Bradley (Florence Briggs Th...  female  38.0      1   \n",
       "2                             Heikkinen, Miss. Laina  female  26.0      0   \n",
       "3       Futrelle, Mrs. Jacques Heath (Lily May Peel)  female  35.0      1   \n",
       "4                           Allen, Mr. William Henry    male  35.0      0   \n",
       "\n",
       "   Parch            Ticket     Fare Cabin Embarked  \n",
       "0      0         A/5 21171   7.2500   NaN        S  \n",
       "1      0          PC 17599  71.2833   C85        C  \n",
       "2      0  STON/O2. 3101282   7.9250   NaN        S  \n",
       "3      0            113803  53.1000  C123        S  \n",
       "4      0            373450   8.0500   NaN        S  "
      ]
     },
     "execution_count": 6,
     "metadata": {},
     "output_type": "execute_result"
    }
   ],
   "source": [
    "train_df.head()"
   ]
  },
  {
   "cell_type": "code",
   "execution_count": 7,
   "metadata": {
    "_cell_guid": "ee4ffdfc-4342-4a4b-8e40-36fc63e5036d",
    "_execution_state": "idle",
    "_uuid": "28fd334927232f6039444f07b76a236e92df5c4e"
   },
   "outputs": [
    {
     "data": {
      "text/html": [
       "<div>\n",
       "<style>\n",
       "    .dataframe thead tr:only-child th {\n",
       "        text-align: right;\n",
       "    }\n",
       "\n",
       "    .dataframe thead th {\n",
       "        text-align: left;\n",
       "    }\n",
       "\n",
       "    .dataframe tbody tr th {\n",
       "        vertical-align: top;\n",
       "    }\n",
       "</style>\n",
       "<table border=\"1\" class=\"dataframe\">\n",
       "  <thead>\n",
       "    <tr style=\"text-align: right;\">\n",
       "      <th></th>\n",
       "      <th>PassengerId</th>\n",
       "      <th>Survived</th>\n",
       "      <th>Pclass</th>\n",
       "      <th>Name</th>\n",
       "      <th>Sex</th>\n",
       "      <th>Age</th>\n",
       "      <th>SibSp</th>\n",
       "      <th>Parch</th>\n",
       "      <th>Ticket</th>\n",
       "      <th>Fare</th>\n",
       "      <th>Cabin</th>\n",
       "      <th>Embarked</th>\n",
       "    </tr>\n",
       "  </thead>\n",
       "  <tbody>\n",
       "    <tr>\n",
       "      <th>886</th>\n",
       "      <td>887</td>\n",
       "      <td>0</td>\n",
       "      <td>2</td>\n",
       "      <td>Montvila, Rev. Juozas</td>\n",
       "      <td>male</td>\n",
       "      <td>27.0</td>\n",
       "      <td>0</td>\n",
       "      <td>0</td>\n",
       "      <td>211536</td>\n",
       "      <td>13.00</td>\n",
       "      <td>NaN</td>\n",
       "      <td>S</td>\n",
       "    </tr>\n",
       "    <tr>\n",
       "      <th>887</th>\n",
       "      <td>888</td>\n",
       "      <td>1</td>\n",
       "      <td>1</td>\n",
       "      <td>Graham, Miss. Margaret Edith</td>\n",
       "      <td>female</td>\n",
       "      <td>19.0</td>\n",
       "      <td>0</td>\n",
       "      <td>0</td>\n",
       "      <td>112053</td>\n",
       "      <td>30.00</td>\n",
       "      <td>B42</td>\n",
       "      <td>S</td>\n",
       "    </tr>\n",
       "    <tr>\n",
       "      <th>888</th>\n",
       "      <td>889</td>\n",
       "      <td>0</td>\n",
       "      <td>3</td>\n",
       "      <td>Johnston, Miss. Catherine Helen \"Carrie\"</td>\n",
       "      <td>female</td>\n",
       "      <td>NaN</td>\n",
       "      <td>1</td>\n",
       "      <td>2</td>\n",
       "      <td>W./C. 6607</td>\n",
       "      <td>23.45</td>\n",
       "      <td>NaN</td>\n",
       "      <td>S</td>\n",
       "    </tr>\n",
       "    <tr>\n",
       "      <th>889</th>\n",
       "      <td>890</td>\n",
       "      <td>1</td>\n",
       "      <td>1</td>\n",
       "      <td>Behr, Mr. Karl Howell</td>\n",
       "      <td>male</td>\n",
       "      <td>26.0</td>\n",
       "      <td>0</td>\n",
       "      <td>0</td>\n",
       "      <td>111369</td>\n",
       "      <td>30.00</td>\n",
       "      <td>C148</td>\n",
       "      <td>C</td>\n",
       "    </tr>\n",
       "    <tr>\n",
       "      <th>890</th>\n",
       "      <td>891</td>\n",
       "      <td>0</td>\n",
       "      <td>3</td>\n",
       "      <td>Dooley, Mr. Patrick</td>\n",
       "      <td>male</td>\n",
       "      <td>32.0</td>\n",
       "      <td>0</td>\n",
       "      <td>0</td>\n",
       "      <td>370376</td>\n",
       "      <td>7.75</td>\n",
       "      <td>NaN</td>\n",
       "      <td>Q</td>\n",
       "    </tr>\n",
       "  </tbody>\n",
       "</table>\n",
       "</div>"
      ],
      "text/plain": [
       "     PassengerId  Survived  Pclass                                      Name  \\\n",
       "886          887         0       2                     Montvila, Rev. Juozas   \n",
       "887          888         1       1              Graham, Miss. Margaret Edith   \n",
       "888          889         0       3  Johnston, Miss. Catherine Helen \"Carrie\"   \n",
       "889          890         1       1                     Behr, Mr. Karl Howell   \n",
       "890          891         0       3                       Dooley, Mr. Patrick   \n",
       "\n",
       "        Sex   Age  SibSp  Parch      Ticket   Fare Cabin Embarked  \n",
       "886    male  27.0      0      0      211536  13.00   NaN        S  \n",
       "887  female  19.0      0      0      112053  30.00   B42        S  \n",
       "888  female   NaN      1      2  W./C. 6607  23.45   NaN        S  \n",
       "889    male  26.0      0      0      111369  30.00  C148        C  \n",
       "890    male  32.0      0      0      370376   7.75   NaN        Q  "
      ]
     },
     "execution_count": 7,
     "metadata": {},
     "output_type": "execute_result"
    }
   ],
   "source": [
    "train_df.tail()"
   ]
  },
  {
   "cell_type": "markdown",
   "metadata": {},
   "source": [
    "Once we took a look into the data let's take a look in their types and if we have some missing data."
   ]
  },
  {
   "cell_type": "code",
   "execution_count": 8,
   "metadata": {
    "_execution_state": "idle",
    "_uuid": "16e64c2a4eeb12556662272fb020ffe2a672638f"
   },
   "outputs": [
    {
     "name": "stdout",
     "output_type": "stream",
     "text": [
      "<class 'pandas.core.frame.DataFrame'>\n",
      "RangeIndex: 891 entries, 0 to 890\n",
      "Data columns (total 12 columns):\n",
      "PassengerId    891 non-null int64\n",
      "Survived       891 non-null int64\n",
      "Pclass         891 non-null int64\n",
      "Name           891 non-null object\n",
      "Sex            891 non-null object\n",
      "Age            714 non-null float64\n",
      "SibSp          891 non-null int64\n",
      "Parch          891 non-null int64\n",
      "Ticket         891 non-null object\n",
      "Fare           891 non-null float64\n",
      "Cabin          204 non-null object\n",
      "Embarked       889 non-null object\n",
      "dtypes: float64(2), int64(5), object(5)\n",
      "memory usage: 83.6+ KB\n",
      "None\n"
     ]
    }
   ],
   "source": [
    "print(train_df.info())"
   ]
  },
  {
   "cell_type": "code",
   "execution_count": 9,
   "metadata": {
    "_execution_state": "idle",
    "_uuid": "ec4b867ba195f0aee5cc05aa31503e2fda5bc081",
    "scrolled": true
   },
   "outputs": [
    {
     "name": "stdout",
     "output_type": "stream",
     "text": [
      "<class 'pandas.core.frame.DataFrame'>\n",
      "RangeIndex: 418 entries, 0 to 417\n",
      "Data columns (total 11 columns):\n",
      "PassengerId    418 non-null int64\n",
      "Pclass         418 non-null int64\n",
      "Name           418 non-null object\n",
      "Sex            418 non-null object\n",
      "Age            332 non-null float64\n",
      "SibSp          418 non-null int64\n",
      "Parch          418 non-null int64\n",
      "Ticket         418 non-null object\n",
      "Fare           417 non-null float64\n",
      "Cabin          91 non-null object\n",
      "Embarked       418 non-null object\n",
      "dtypes: float64(2), int64(4), object(5)\n",
      "memory usage: 36.0+ KB\n",
      "None\n"
     ]
    }
   ],
   "source": [
    "print(test_df.info())"
   ]
  },
  {
   "cell_type": "markdown",
   "metadata": {},
   "source": [
    "From the stats above we noticed that we have some missing data in the some of the fields:\n",
    "\n",
    "**Missing Field in Training Data**\n",
    "    - We have missing values in Cabin (687 values) ,Age (177 values), Embarked (2 values).\n",
    "    \n",
    "**Missing Field in Test**\n",
    "    - We have missing values in Cabin (327 values) ,Age, (86 values) Fare (1 value).\n",
    "    \n",
    "\n",
    "We alse got that we have different types of data. We have numerical (int/floats) and also categorical (object)."
   ]
  },
  {
   "cell_type": "markdown",
   "metadata": {
    "_execution_state": "idle",
    "_uuid": "5c2bd927f86dfc18a8c05dd9d464f61ed4760d0a"
   },
   "source": [
    "## Information from the data fields:\n",
    "Data Types: \n",
    "\n",
    "**Type** : *Field*\n",
    "\n",
    "**Numerical - Float/Int**: *PassagerId, Pclass, Age, SibSp, Parch, Fare*\n",
    "\n",
    "**String - Object** : *Name, Sex, Ticket,  Cabin, Embarked*\n",
    "\n",
    "**Continuos**:  *Age,Fare* \n",
    "\n",
    "**Discrete**:  *SibSp, Parch*\n",
    "\n",
    "**Ordinal**: *Pclass*\n",
    "\n",
    "**Categorial**: *Survived, Sex, and Embarked. *\n",
    "\n",
    "**Mixed data types(Numerical, alphanumeric data)**:*Ticket*"
   ]
  },
  {
   "cell_type": "markdown",
   "metadata": {},
   "source": [
    "More information about the data in [Kaggle Titanic data](https://www.kaggle.com/c/titanic/data) ."
   ]
  },
  {
   "cell_type": "markdown",
   "metadata": {},
   "source": [
    "# 2. Features"
   ]
  },
  {
   "cell_type": "markdown",
   "metadata": {
    "_cell_guid": "0ff49138-173d-4dd9-a0a4-500727c05439",
    "_execution_state": "idle",
    "_uuid": "0049024ffe95e38fa51957488cb6d0d3b197439f"
   },
   "source": [
    "## 2.1 Initial Data Exploration"
   ]
  },
  {
   "cell_type": "markdown",
   "metadata": {},
   "source": [
    "### Data Overview"
   ]
  },
  {
   "cell_type": "markdown",
   "metadata": {},
   "source": [
    "##### Distribution of Numerical Features\n",
    "\n",
    "- Most passengers (> 75%) did not travel with parents or children.\n",
    "- Nearly 30% of the passengers had siblings and/or spouse aboard.\n",
    "- Fares varied significantly with mean ast 32.2 and std 49.69\n",
    "- Maximum age range 65-80."
   ]
  },
  {
   "cell_type": "code",
   "execution_count": 10,
   "metadata": {},
   "outputs": [
    {
     "name": "stdout",
     "output_type": "stream",
     "text": [
      "       PassengerId    Survived      Pclass         Age       SibSp  \\\n",
      "count   891.000000  891.000000  891.000000  714.000000  891.000000   \n",
      "mean    446.000000    0.383838    2.308642   29.699118    0.523008   \n",
      "std     257.353842    0.486592    0.836071   14.526497    1.102743   \n",
      "min       1.000000    0.000000    1.000000    0.420000    0.000000   \n",
      "25%     223.500000    0.000000    2.000000   20.125000    0.000000   \n",
      "50%     446.000000    0.000000    3.000000   28.000000    0.000000   \n",
      "75%     668.500000    1.000000    3.000000   38.000000    1.000000   \n",
      "max     891.000000    1.000000    3.000000   80.000000    8.000000   \n",
      "\n",
      "            Parch        Fare  \n",
      "count  891.000000  891.000000  \n",
      "mean     0.381594   32.204208  \n",
      "std      0.806057   49.693429  \n",
      "min      0.000000    0.000000  \n",
      "25%      0.000000    7.910400  \n",
      "50%      0.000000   14.454200  \n",
      "75%      0.000000   31.000000  \n",
      "max      6.000000  512.329200  \n"
     ]
    }
   ],
   "source": [
    "print(train_df.describe())"
   ]
  },
  {
   "cell_type": "markdown",
   "metadata": {},
   "source": [
    "##### Distribution of categorical features:\n",
    "- Every passenger have a unique name\n",
    "- We get that we have more male than female\n",
    "- We get that 210 tickets were duplicated.\n",
    "- There were more people that embarked in S."
   ]
  },
  {
   "cell_type": "code",
   "execution_count": 11,
   "metadata": {
    "_execution_state": "idle",
    "_uuid": "7f2691d6727fb2e55283e6879b2e6c4cae2f6ae0",
    "scrolled": true
   },
   "outputs": [
    {
     "name": "stdout",
     "output_type": "stream",
     "text": [
      "                            Name   Sex    Ticket Cabin Embarked\n",
      "count                        891   891       891   204      889\n",
      "unique                       891     2       681   147        3\n",
      "top     O'Connell, Mr. Patrick D  male  CA. 2343    G6        S\n",
      "freq                           1   577         7     4      644\n"
     ]
    }
   ],
   "source": [
    "print(train_df.describe(include=['O']))"
   ]
  },
  {
   "cell_type": "markdown",
   "metadata": {},
   "source": [
    "# 2.2 Statistical Summaries and Visualization\n",
    "\n",
    "In this statistical summaries and visualization part, we will be performing our analysis on the training set due the presence of the survival field."
   ]
  },
  {
   "cell_type": "markdown",
   "metadata": {},
   "source": [
    "### 2.2.1 Initial Handeling Missing Data \n",
    "\n",
    "In order to proceed with this part it is important to fill the missing data. Initially we will fill them with a more general approach. Later we will see an other approach that can be used to fill those missing values.\n"
   ]
  },
  {
   "cell_type": "code",
   "execution_count": 12,
   "metadata": {
    "collapsed": true
   },
   "outputs": [],
   "source": [
    "train_df['Age'].fillna(train_df.Age.median(), inplace=True) "
   ]
  },
  {
   "cell_type": "code",
   "execution_count": 13,
   "metadata": {
    "collapsed": true
   },
   "outputs": [],
   "source": [
    "train_df['Embarked'].fillna('S', inplace=True) "
   ]
  },
  {
   "cell_type": "code",
   "execution_count": 14,
   "metadata": {
    "collapsed": true
   },
   "outputs": [],
   "source": [
    "train_df['Cabin'].fillna(\"U\", inplace=True) "
   ]
  },
  {
   "cell_type": "markdown",
   "metadata": {},
   "source": [
    "Verification that there are no more missing values in our training set. "
   ]
  },
  {
   "cell_type": "code",
   "execution_count": 15,
   "metadata": {},
   "outputs": [
    {
     "name": "stdout",
     "output_type": "stream",
     "text": [
      "<class 'pandas.core.frame.DataFrame'>\n",
      "RangeIndex: 891 entries, 0 to 890\n",
      "Data columns (total 12 columns):\n",
      "PassengerId    891 non-null int64\n",
      "Survived       891 non-null int64\n",
      "Pclass         891 non-null int64\n",
      "Name           891 non-null object\n",
      "Sex            891 non-null object\n",
      "Age            891 non-null float64\n",
      "SibSp          891 non-null int64\n",
      "Parch          891 non-null int64\n",
      "Ticket         891 non-null object\n",
      "Fare           891 non-null float64\n",
      "Cabin          891 non-null object\n",
      "Embarked       891 non-null object\n",
      "dtypes: float64(2), int64(5), object(5)\n",
      "memory usage: 83.6+ KB\n",
      "None\n"
     ]
    }
   ],
   "source": [
    "print(train_df.info())"
   ]
  },
  {
   "cell_type": "markdown",
   "metadata": {},
   "source": [
    "### 2.2.2 Statistics of the Survivors:\n",
    "\n",
    "First statistics that should be done is in the Survival field since it will be used a lot in our analysis. \n",
    "\n",
    "- Titanic sank after colliding with an iceberg, killing 1502 out of 2224 passengers and crew. \n",
    "- We have data from 1309 passengers (58.85% of all passangers). 841 in our tranning data and 418 in our test data.\n",
    "- From our training data we have that 342 survived and 539 died.\n",
    "- Around 38% samples survived representative of the actual survival rate at 32%."
   ]
  },
  {
   "cell_type": "code",
   "execution_count": 16,
   "metadata": {},
   "outputs": [
    {
     "name": "stdout",
     "output_type": "stream",
     "text": [
      "Traning dataset Info:\n",
      "Count Survived: 342\n",
      "Not Survived: 549\n"
     ]
    }
   ],
   "source": [
    "# Number of Survivors: \n",
    "survived_df = train_df[train_df[\"Survived\"] == 1];\n",
    "not_survived_df = survived = train_df[train_df[\"Survived\"] != 1];\n",
    "\n",
    "print(\"Traning dataset Info:\")\n",
    "print(\"Count Survived:\",len(survived_df))\n",
    "print(\"Not Survived:\",len(not_survived_df))"
   ]
  },
  {
   "cell_type": "markdown",
   "metadata": {},
   "source": [
    "### 2.2.3 Univariate Analysis\n",
    "\n",
    "We will get a sense of how the survived field is related to other fields.\n",
    "\n",
    "And we will also test some assumptions from text:\n",
    "\"... some groups of people were more likely to survive than others: such as women, children and the upper-class.\"\n"
   ]
  },
  {
   "cell_type": "markdown",
   "metadata": {},
   "source": [
    "### Helper Functions\n",
    "\n",
    "This functions are going to help us to plot and show some statistcs from the data."
   ]
  },
  {
   "cell_type": "code",
   "execution_count": 17,
   "metadata": {
    "collapsed": true
   },
   "outputs": [],
   "source": [
    "\n",
    "# Plots functions\n",
    "\n",
    "def plot_bar_fraction_survivors_field(df,field,title,loc_legend=\"upper left\"):\n",
    "    ''''\n",
    "    Plot fraction of survival x_axis = field and y_axis = field\n",
    "    '''\n",
    "    Survived_by_field = pd.crosstab(df[field],df.Survived) \n",
    "    Survived_fraction = Survived_by_field.apply(lambda r: r/r.sum(),axis = 1)\n",
    "    plt.bar(Survived_by_field.index,Survived_fraction[1],color=\"green\",label=\"Survived\")\n",
    "\n",
    "    sns.set_context(\"talk\")\n",
    "    sns.set_style(\"whitegrid\")\n",
    "    sns.despine(left=True)\n",
    "    sns.set_style(\"ticks\")\n",
    "    \n",
    "    plt.ylabel(\"Fraction\")\n",
    "    plt.xlabel(field)\n",
    "    plt.title(title)\n",
    "    plt.legend(loc=\"upper right\")\n",
    "\n",
    "def plot_hist(dataFrame,field,title,bins,legends):\n",
    "    \n",
    "    \"\"\"\n",
    "    To compare a histogram\n",
    "    \"\"\"\n",
    "    sns.set_style(\"ticks\")\n",
    "    sns.set_context(\"talk\")\n",
    "    sns.set_style(\"whitegrid\")\n",
    "    sns.distplot(dataFrame[field], bins=bins)\n",
    "    plt.title(title)\n",
    "    plt.ylabel('frequency')\n",
    "    plt.legend(legends);\n",
    "    \n",
    "def plot_hist_comparasion_graph (df1,df2,field,title,bins,legends):\n",
    "    \n",
    "    \"\"\"\n",
    "    To compare two different distribution.\n",
    "    \"\"\"\n",
    "    \n",
    "\n",
    "    sns.distplot(df1[field], bins=bins)\n",
    "    sns.distplot(df2[field], bins=bins)\n",
    "    plt.title(title)\n",
    "    plt.ylabel('frequency')\n",
    "    plt.legend(legends);\n",
    "\n",
    "def plot_boxplot(df,field,title,y=\"Survived\",hue = \"\"):\n",
    "    '''\n",
    "    Plot boxplot  \n",
    "    '''\n",
    "    sns.set_context(\"talk\")\n",
    "    sns.set_style(\"whitegrid\")\n",
    "    sns.despine(left=True)\n",
    "    if(hue != \"\"):\n",
    "        sns.boxplot(x=field,y=y,orient=\"h\",data=train_df,hue = hue)\n",
    "    else:\n",
    "        sns.boxplot(x=field,y=y,orient=\"h\",data=train_df)\n",
    "    sns.plt.title(title)\n",
    "\n",
    "    \n",
    "def plot_counter(df,field,title):\n",
    "    \"\"\"\n",
    "    Plot how much it appear on Survival/\n",
    "    \"\"\"\n",
    "    sns.set_context(\"talk\")\n",
    "    sns.set_style(\"whitegrid\")\n",
    "    sns.despine(left=True)\n",
    "    sns.countplot(x=field,hue=\"Survived\", data=df) \n",
    "    sns.plt.title(title)\n",
    "\n",
    "def plot_scatter(df,field1,field2,Title):\n",
    "    '''\n",
    "    Plot scatter plot\n",
    "    '''\n",
    "    plt.figure(figsize=(15,8))\n",
    "    ax = plt.subplot()\n",
    "    ax.scatter(df[df['Survived']==1][field1],df[df['Survived']==1][field2],c='green',s=40)\n",
    "    ax.scatter(df[df['Survived']==0][field1],df[df['Survived']==0][field2],c='red',s=40)\n",
    "    sns.plt.title(Title)\n",
    "    ax.set_xlabel(field1)\n",
    "    ax.set_ylabel(field2)\n",
    "    ax.legend(('Survived','Dead'),scatterpoints=1,loc='upper right',fontsize=15,)\n",
    "\n",
    "    \n",
    "# Group Function\n",
    "def groupbyFieldsInfo(df,field):\n",
    "    \"\"\"\n",
    "    Print the group by of dataframe by a field and plot it apperance, count it Survival apperance, and it mean.\n",
    "    \"\"\"\n",
    "    \n",
    "    by_f = {'PassengerId':['count'], 'Survived':['sum','mean']}\n",
    "    fields = field + [\"PassengerId\",\"Survived\"]\n",
    "    print(df[fields].groupby(field).agg(by_f))\n",
    "    \n",
    "# Stats functions\n",
    "\n",
    "def get_Stats_array(array):\n",
    "    \"\"\"\n",
    "    Given a certain array it print count it unique values, it min, max and importantant percentiles.\n",
    "    \"\"\"\n",
    "    \n",
    "    unique_values = set(array)\n",
    "    \n",
    "    print(\"There are\", len(unique_values) ,\"unique ages\")\n",
    "    print(\"-----------------------------------\")\n",
    "    print(\"Min\",array.min())\n",
    "    print(\"25%\",np.percentile(array,25))\n",
    "    print(\"Mean:\",array.mean())\n",
    "    print(\"Median:\",np.median(array))\n",
    "    print(\"50%\",np.percentile(array,50))\n",
    "    print(\"75%\",np.percentile(array,75))\n",
    "    print(\"Max:\",array.max())"
   ]
  },
  {
   "cell_type": "markdown",
   "metadata": {},
   "source": [
    "### Statistical Summuries for Categorical data"
   ]
  },
  {
   "cell_type": "markdown",
   "metadata": {},
   "source": [
    "### Sex \n",
    "\n",
    "We got some information:\n",
    "- Most of passangers were male: In trainning set 577 passengers were male and 314 were female.\n",
    "- Most female passangers survived. In our trainning set there were 233 (0.74% female) and 109 (0.18%)\n",
    "- This indicate that female were most likely to survive."
   ]
  },
  {
   "cell_type": "code",
   "execution_count": 18,
   "metadata": {},
   "outputs": [
    {
     "name": "stdout",
     "output_type": "stream",
     "text": [
      "       PassengerId Survived          \n",
      "             count      sum      mean\n",
      "Sex                                  \n",
      "female         314      233  0.742038\n",
      "male           577      109  0.188908\n"
     ]
    }
   ],
   "source": [
    "#how many female are in dataset, survived, survived ratio\n",
    "groupbyFieldsInfo(train_df,[\"Sex\"])"
   ]
  },
  {
   "cell_type": "code",
   "execution_count": 19,
   "metadata": {},
   "outputs": [
    {
     "data": {
      "image/png": "[encoded data removed]",
      "text/plain": [
       "<matplotlib.figure.Figure at 0x112b90dd8>"
      ]
     },
     "metadata": {},
     "output_type": "display_data"
    }
   ],
   "source": [
    "plot_counter(train_df,\"Sex\",'Quantity of Survivals by Sex')\n",
    "plt.savefig('./figs/SexSurvived.png')"
   ]
  },
  {
   "cell_type": "markdown",
   "metadata": {},
   "source": [
    "### Embarked\n",
    "\n",
    "- Context\n",
    "    - The Titanic trip was from Cherbourg (C) to New York, with stops in Southampton(S) and Queenstown(Q). \n",
    "    - In each Great Britain (GB) city there were passenger that joined Titanic.\n",
    "    \n",
    "    \n",
    "- From our Training Set\n",
    "    - Most passangers in train set were from Southamptown(S) with 644 passangers. Follow by Cherbourg (C) with 168 and than Queenstown with 77.\n",
    "    - There were more survivors from Southamption with 217 survivors.\n",
    "    - The passengers from Cherbourg had higher survive with a rate of 0.553"
   ]
  },
  {
   "cell_type": "markdown",
   "metadata": {},
   "source": [
    "\n",
    "![Image](http://2.bp.blogspot.com/_02Mg78aSCdk/S8cpNdir0iI/AAAAAAAAAWQ/W7w20e35FeU/s1600/TitanicRoute_svg.png)"
   ]
  },
  {
   "cell_type": "code",
   "execution_count": 20,
   "metadata": {},
   "outputs": [
    {
     "name": "stdout",
     "output_type": "stream",
     "text": [
      "         PassengerId Survived          \n",
      "               count      sum      mean\n",
      "Embarked                               \n",
      "C                168       93  0.553571\n",
      "Q                 77       30  0.389610\n",
      "S                646      219  0.339009\n"
     ]
    }
   ],
   "source": [
    "groupbyFieldsInfo(train_df,[\"Embarked\"])"
   ]
  },
  {
   "cell_type": "code",
   "execution_count": 21,
   "metadata": {},
   "outputs": [
    {
     "data": {
      "image/png": "[encoded data removed]",
      "text/plain": [
       "<matplotlib.figure.Figure at 0x109efb278>"
      ]
     },
     "metadata": {},
     "output_type": "display_data"
    }
   ],
   "source": [
    "plot_counter(train_df,\"Embarked\",'Quantity of Survivals by Embarked')"
   ]
  },
  {
   "cell_type": "markdown",
   "metadata": {},
   "source": [
    "## Statistical summary for numerical data"
   ]
  },
  {
   "cell_type": "markdown",
   "metadata": {},
   "source": [
    "### Statistical Summary for the Ordinal Data\n",
    "\n",
    "### Pclass\n",
    "\n",
    "- Context\n",
    "    - In the image bellow we can see the classes distribution\n",
    "    - In titanic there were three classes: 1class, 2class, 3class\n",
    "- Training Set:\n",
    "    - There were more passengers from 3 class > 2class > 1ckass.\n",
    "    - There were more survivors in 1 class (0.67) > 2 class (0.47) > 3class (0.24).  "
   ]
  },
  {
   "cell_type": "markdown",
   "metadata": {},
   "source": [
    "![Image](http://www.encyclopedia-titanica.org/files/1/figure-one-side-view.gif)\n"
   ]
  },
  {
   "cell_type": "code",
   "execution_count": 22,
   "metadata": {},
   "outputs": [
    {
     "name": "stdout",
     "output_type": "stream",
     "text": [
      "       PassengerId Survived          \n",
      "             count      sum      mean\n",
      "Pclass                               \n",
      "1              216      136  0.629630\n",
      "2              184       87  0.472826\n",
      "3              491      119  0.242363\n"
     ]
    }
   ],
   "source": [
    "groupbyFieldsInfo(train_df,[\"Pclass\"])"
   ]
  },
  {
   "cell_type": "code",
   "execution_count": 23,
   "metadata": {},
   "outputs": [
    {
     "data": {
      "image/png": "[encoded data removed]",
      "text/plain": [
       "<matplotlib.figure.Figure at 0x115ddb748>"
      ]
     },
     "metadata": {},
     "output_type": "display_data"
    }
   ],
   "source": [
    "plot_counter(train_df,\"Pclass\",'Quantity of Survivals by Pclass')\n",
    "plt.savefig('./figs/PclassSurvivals.png')"
   ]
  },
  {
   "cell_type": "markdown",
   "metadata": {},
   "source": [
    "### Statistical Summary for the Discrite Data"
   ]
  },
  {
   "cell_type": "markdown",
   "metadata": {},
   "source": [
    "### SibSp\n",
    "- From our observention in the data set:\n",
    "    - There were more single person than with siblings or spouse\n",
    "    - There survival rate is bigger where we have 1 (53%) or 2 (46%) siblings or spouses."
   ]
  },
  {
   "cell_type": "code",
   "execution_count": 24,
   "metadata": {},
   "outputs": [
    {
     "name": "stdout",
     "output_type": "stream",
     "text": [
      "      PassengerId Survived          \n",
      "            count      sum      mean\n",
      "SibSp                               \n",
      "0             608      210  0.345395\n",
      "1             209      112  0.535885\n",
      "2              28       13  0.464286\n",
      "3              16        4  0.250000\n",
      "4              18        3  0.166667\n",
      "5               5        0  0.000000\n",
      "8               7        0  0.000000\n"
     ]
    }
   ],
   "source": [
    "groupbyFieldsInfo(train_df,[\"SibSp\"])"
   ]
  },
  {
   "cell_type": "code",
   "execution_count": 25,
   "metadata": {},
   "outputs": [
    {
     "data": {
      "image/png": "[encoded data removed]",
      "text/plain": [
       "<matplotlib.figure.Figure at 0x116177ef0>"
      ]
     },
     "metadata": {},
     "output_type": "display_data"
    }
   ],
   "source": [
    "plot_counter(train_df,\"SibSp\",'Quantity of Survivals by SibSp')"
   ]
  },
  {
   "cell_type": "markdown",
   "metadata": {},
   "source": [
    "### Parch\n",
    "- From our observention in the data set:\n",
    "    - There were more single person than with children or parents\n",
    "    - There survival rate is bigger where we have 1 (55%) or 2 (50%) with children/parents.\n",
    "- ** Next Step **\n",
    " - Create a join feature Parch with SibSp"
   ]
  },
  {
   "cell_type": "code",
   "execution_count": 26,
   "metadata": {},
   "outputs": [
    {
     "name": "stdout",
     "output_type": "stream",
     "text": [
      "      PassengerId Survived          \n",
      "            count      sum      mean\n",
      "Parch                               \n",
      "0             678      233  0.343658\n",
      "1             118       65  0.550847\n",
      "2              80       40  0.500000\n",
      "3               5        3  0.600000\n",
      "4               4        0  0.000000\n",
      "5               5        1  0.200000\n",
      "6               1        0  0.000000\n"
     ]
    }
   ],
   "source": [
    "groupbyFieldsInfo(train_df,[\"Parch\"])"
   ]
  },
  {
   "cell_type": "code",
   "execution_count": 27,
   "metadata": {},
   "outputs": [
    {
     "data": {
      "image/png": "[encoded data removed]",
      "text/plain": [
       "<matplotlib.figure.Figure at 0x115dd0400>"
      ]
     },
     "metadata": {},
     "output_type": "display_data"
    }
   ],
   "source": [
    "plot_counter(train_df,\"Parch\",'Quantity of Survivals by Parch')"
   ]
  },
  {
   "cell_type": "markdown",
   "metadata": {},
   "source": [
    "### Statistical Summary for the Continuos data"
   ]
  },
  {
   "cell_type": "markdown",
   "metadata": {},
   "source": [
    "### Age:\n",
    "\n",
    "From our training data and removing NaN:\n",
    "- The youngest passenger had 0.42 years old and the oldest 80 years old.\n",
    "- We got that most of the passengers had 20-30 (young adult) years old. Follow by 30-50 (adult) and then 0-20 (children and teen) and then 50-60(old adult) at least 60-80(senior).\n",
    "- Most of the children (0-12) survived the accident.\n",
    "\n",
    "** Next Step **\n",
    "- Create a new feature contaning age bins.\n",
    "- Create a visualization "
   ]
  },
  {
   "cell_type": "code",
   "execution_count": 28,
   "metadata": {},
   "outputs": [
    {
     "name": "stdout",
     "output_type": "stream",
     "text": [
      "There are 88 unique ages\n",
      "-----------------------------------\n",
      "Min 0.42\n",
      "25% 22.0\n",
      "Mean: 29.3615824916\n",
      "Median: 28.0\n",
      "50% 28.0\n",
      "75% 35.0\n",
      "Max: 80.0\n"
     ]
    }
   ],
   "source": [
    "ages_array = np.array(train_df.Age)\n",
    "get_Stats_array(ages_array)"
   ]
  },
  {
   "cell_type": "code",
   "execution_count": 29,
   "metadata": {},
   "outputs": [
    {
     "data": {
      "image/png": "[encoded data removed]",
      "text/plain": [
       "<matplotlib.figure.Figure at 0x115ddd320>"
      ]
     },
     "metadata": {},
     "output_type": "display_data"
    }
   ],
   "source": [
    "plot_boxplot(train_df,\"Age\",\"Survived by age\")\n",
    "plt.savefig('./figs/SurvivedbyAge.png')"
   ]
  },
  {
   "cell_type": "code",
   "execution_count": 30,
   "metadata": {},
   "outputs": [
    {
     "data": {
      "image/png": "[encoded data removed]",
      "text/plain": [
       "<matplotlib.figure.Figure at 0x109f36f28>"
      ]
     },
     "metadata": {},
     "output_type": "display_data"
    }
   ],
   "source": [
    "plot_bar_fraction_survivors_field(train_df,\"Age\",\"Age Survival Rate\")\n",
    "plt.savefig('./figs/AgeSurvivedRate.png')"
   ]
  },
  {
   "cell_type": "markdown",
   "metadata": {},
   "source": [
    "### Fare\n",
    "- The cheapest fare was free (0.000) and the most expensive was 512.00.\n",
    "- Median price of the ticket was 14.45.\n",
    "- Most of the people payed less than 50.00 (%) for the ticket.\n",
    "- As the price payed for the ticket the chance of survivor increased. This can be correlated to Pclass.\n",
    "\n",
    "**Next step**\n",
    "- Create bins for Fare to better visualization and classification\n",
    "- Create a graph comparing Fare with Pclass and also the correlation between them."
   ]
  },
  {
   "cell_type": "code",
   "execution_count": 31,
   "metadata": {},
   "outputs": [
    {
     "name": "stdout",
     "output_type": "stream",
     "text": [
      "There are 248 unique ages\n",
      "-----------------------------------\n",
      "Min 0.0\n",
      "25% 7.9104\n",
      "Mean: 32.2042079686\n",
      "Median: 14.4542\n",
      "50% 14.4542\n",
      "75% 31.0\n",
      "Max: 512.3292\n"
     ]
    }
   ],
   "source": [
    "fare_array = np.array(train_df[\"Fare\"])\n",
    "get_Stats_array(fare_array)"
   ]
  },
  {
   "cell_type": "code",
   "execution_count": 32,
   "metadata": {},
   "outputs": [
    {
     "data": {
      "image/png": "[encoded data removed]",
      "text/plain": [
       "<matplotlib.figure.Figure at 0x115d2c550>"
      ]
     },
     "metadata": {},
     "output_type": "display_data"
    }
   ],
   "source": [
    "plot_boxplot(train_df,\"Fare\",\"Survived by Fare\")\n",
    "plt.savefig('./figs/SurvivedbyFare.png')"
   ]
  },
  {
   "cell_type": "markdown",
   "metadata": {},
   "source": [
    "## 2.2.2 Creating Feature \n",
    "\n",
    "In this section we will create new features that will be used to do further analysis as well in the feature enginnering part."
   ]
  },
  {
   "cell_type": "markdown",
   "metadata": {},
   "source": [
    "###  Title Name and Last Name\n",
    "\n",
    "In the case of Names we get that:\n",
    "- For every passenger there is a unique name.\n",
    "- Names are followed formed like: \n",
    "    +  Braund, **Mr.** Owen Harris\n",
    "    +  Heikkinen, **Miss.** Laina\n",
    "    +  Oliva y Ocana, **Dona.** Fermina\n",
    "\n",
    "The names are usually structured like:  last name, title. firstname\n",
    "\n",
    "For our analysis we will use the last name and title. \n",
    "\n",
    "The title can be as simple as Mr, Miss or more uncommon like Dona, Don, Col.\n",
    "\n",
    "Analysing the title feature:\n",
    "- The most common amoung our training set is Mr.\n",
    "- The one with more survival is Miss. followed by Mrs."
   ]
  },
  {
   "cell_type": "code",
   "execution_count": 33,
   "metadata": {
    "collapsed": true
   },
   "outputs": [],
   "source": [
    "def get_Title_Names(df):\n",
    "    df[\"Title\"] = [*map(lambda x: x.split(',')[1].split('.')[0].strip(),df[\"Name\"])]\n",
    "    TitleClass_Dic = {\n",
    "            \"Mr\" :        \"Mr\",\n",
    "            \"Mrs\" :       \"Mrs\",\n",
    "            \"Miss\" :      \"Miss\",\n",
    "            \"Mme\":        \"Mrs\",\n",
    "            \"Ms\":         \"Mrs\",\n",
    "            \"Mlle\":       \"Miss\",\n",
    "            \"Master\" :    \"Master\",\n",
    "            \"Capt\":       \"Officer\",\n",
    "            \"Col\":        \"Officer\",\n",
    "            \"Major\":      \"Officer\",\n",
    "            \"Dr\":         \"Officer\",\n",
    "            \"Rev\":        \"Officer\",\n",
    "            \"Jonkheer\":   \"Royalty\",\n",
    "            \"Don\":        \"Royalty\",\n",
    "            \"Sir\" :       \"Royalty\",\n",
    "            \"the Countess\":\"Royalty\",\n",
    "            \"Dona\":       \"Royalty\",\n",
    "            \"Lady\" :      \"Royalty\"\n",
    "\n",
    "    }\n",
    "    df[\"Title\"] = df[\"Title\"].map(TitleClass_Dic)\n",
    "\n",
    "    return df"
   ]
  },
  {
   "cell_type": "code",
   "execution_count": 34,
   "metadata": {
    "collapsed": true
   },
   "outputs": [],
   "source": [
    "train_df = get_Title_Names(train_df)"
   ]
  },
  {
   "cell_type": "code",
   "execution_count": 35,
   "metadata": {},
   "outputs": [
    {
     "name": "stdout",
     "output_type": "stream",
     "text": [
      "        PassengerId Survived          \n",
      "              count      sum      mean\n",
      "Title                                 \n",
      "Master           40       23  0.575000\n",
      "Miss            184      129  0.701087\n",
      "Mr              517       81  0.156673\n",
      "Mrs             127      101  0.795276\n",
      "Officer          18        5  0.277778\n",
      "Royalty           5        3  0.600000\n"
     ]
    }
   ],
   "source": [
    "groupbyFieldsInfo(train_df,[\"Title\"])"
   ]
  },
  {
   "cell_type": "code",
   "execution_count": 36,
   "metadata": {},
   "outputs": [
    {
     "data": {
      "image/png": "[encoded data removed]",
      "text/plain": [
       "<matplotlib.figure.Figure at 0x1167c4c18>"
      ]
     },
     "metadata": {},
     "output_type": "display_data"
    }
   ],
   "source": [
    "plot_counter(train_df,\"Title\",'Quantity of Survivals by Title')"
   ]
  },
  {
   "cell_type": "markdown",
   "metadata": {},
   "source": [
    "### Family Size \n",
    "\n",
    "Observation with the new feature:\n",
    "- There were more people travelling alone\n",
    "- Most of passengers travelled alone did not survived.\n",
    "- People with family size up to 4 had more chance to survive. "
   ]
  },
  {
   "cell_type": "code",
   "execution_count": 37,
   "metadata": {
    "collapsed": true
   },
   "outputs": [],
   "source": [
    "def create_family_size(df):\n",
    "    bins = (0,1,4,12)\n",
    "    group_names = [\"1_Singleton(1Person)\", \"2_SmallFamily(2-4People)\",\"3_LargeFamily(5-12People)\"]\n",
    "\n",
    "    df[\"FamilySize\"] = df[\"SibSp\"] + df[\"Parch\"] + 1\n",
    "    df[\"Family_bin\"] = pd.cut(df[\"FamilySize\"],bins,labels=group_names)\n",
    "    return df;"
   ]
  },
  {
   "cell_type": "code",
   "execution_count": 38,
   "metadata": {
    "collapsed": true
   },
   "outputs": [],
   "source": [
    "train_df = create_family_size(train_df)"
   ]
  },
  {
   "cell_type": "code",
   "execution_count": 39,
   "metadata": {},
   "outputs": [
    {
     "name": "stdout",
     "output_type": "stream",
     "text": [
      "           PassengerId Survived          \n",
      "                 count      sum      mean\n",
      "FamilySize                               \n",
      "1                  537      163  0.303538\n",
      "2                  161       89  0.552795\n",
      "3                  102       59  0.578431\n",
      "4                   29       21  0.724138\n",
      "5                   15        3  0.200000\n",
      "6                   22        3  0.136364\n",
      "7                   12        4  0.333333\n",
      "8                    6        0  0.000000\n",
      "11                   7        0  0.000000\n"
     ]
    }
   ],
   "source": [
    "groupbyFieldsInfo(train_df,[\"FamilySize\"])"
   ]
  },
  {
   "cell_type": "code",
   "execution_count": 40,
   "metadata": {},
   "outputs": [
    {
     "name": "stdout",
     "output_type": "stream",
     "text": [
      "                          PassengerId Survived          \n",
      "                                count      sum      mean\n",
      "Family_bin                                              \n",
      "1_Singleton(1Person)              537      163  0.303538\n",
      "2_SmallFamily(2-4People)          292      169  0.578767\n",
      "3_LargeFamily(5-12People)          62       10  0.161290\n"
     ]
    }
   ],
   "source": [
    "groupbyFieldsInfo(train_df,[\"Family_bin\"])"
   ]
  },
  {
   "cell_type": "code",
   "execution_count": 41,
   "metadata": {},
   "outputs": [
    {
     "data": {
      "image/png": "[encoded data removed]",
      "text/plain": [
       "<matplotlib.figure.Figure at 0x11652a9e8>"
      ]
     },
     "metadata": {},
     "output_type": "display_data"
    }
   ],
   "source": [
    "plot_counter(train_df,\"FamilySize\",'Quantity of Survivals by FamilySize')"
   ]
  },
  {
   "cell_type": "code",
   "execution_count": 42,
   "metadata": {},
   "outputs": [
    {
     "data": {
      "image/png": "[encoded data removed]",
      "text/plain": [
       "<matplotlib.figure.Figure at 0x1161b5e48>"
      ]
     },
     "metadata": {},
     "output_type": "display_data"
    }
   ],
   "source": [
    "plot_counter(train_df,\"Family_bin\",'Quantity of Survivals by FamilyBin')"
   ]
  },
  {
   "cell_type": "markdown",
   "metadata": {},
   "source": [
    "### Age bins\n",
    "\n",
    "From our traning set we get that:\n",
    "- Children (0-12) have the highest survival rate 0.57.\n",
    "- Young Adult (20-28) have the lowest survival rate 0.36.\n",
    "- We can use this feature as a parameter for predicting the survival."
   ]
  },
  {
   "cell_type": "code",
   "execution_count": 43,
   "metadata": {
    "collapsed": true
   },
   "outputs": [],
   "source": [
    "# Fare bins:\n",
    "def create_age_bins(df):\n",
    "    \n",
    "    bins = (0,12,20,28,40,57,82)\n",
    "    group_names = [\"1Children(0-12)\", \"2Teen(13-20)\",\"3YngAdult(21-28)\",\"4Adult(29-40)\",\"5OldAdult(41-57)\",\"6Senior(58-82)\"]\n",
    "    df[\"Age_bin\"] = pd.cut(df[\"Age\"],bins,labels=group_names)\n",
    "\n",
    "    return df;"
   ]
  },
  {
   "cell_type": "code",
   "execution_count": 44,
   "metadata": {},
   "outputs": [
    {
     "name": "stdout",
     "output_type": "stream",
     "text": [
      "                 PassengerId Survived          \n",
      "                       count      sum      mean\n",
      "Age_bin                                        \n",
      "1Children(0-12)           69       40  0.579710\n",
      "2Teen(13-20)             110       42  0.381818\n",
      "3YngAdult(21-28)         360      118  0.327778\n",
      "4Adult(29-40)            202       87  0.430693\n",
      "5OldAdult(41-57)         117       45  0.384615\n",
      "6Senior(58-82)            33       10  0.303030\n"
     ]
    }
   ],
   "source": [
    "train_df = create_age_bins(train_df);\n",
    "groupbyFieldsInfo(train_df,[\"Age_bin\"])"
   ]
  },
  {
   "cell_type": "code",
   "execution_count": 45,
   "metadata": {},
   "outputs": [
    {
     "data": {
      "image/png": "[encoded data removed]",
      "text/plain": [
       "<matplotlib.figure.Figure at 0x11677b588>"
      ]
     },
     "metadata": {},
     "output_type": "display_data"
    }
   ],
   "source": [
    "plot_counter(train_df,\"Age_bin\",'Quantity of Survivals by Age')\n",
    "plt.savefig('./figs/AgeSurvived.png')"
   ]
  },
  {
   "cell_type": "markdown",
   "metadata": {},
   "source": [
    "### Fare Bins\n",
    "\n",
    "On training set once created the new variable:\n",
    "- There is a clear correlation between fare price and survival:\n",
    "    - When the fare price increase the chance of survival also increase.\n",
    "    - Maybe can use tis in our model."
   ]
  },
  {
   "cell_type": "code",
   "execution_count": 46,
   "metadata": {
    "collapsed": true
   },
   "outputs": [],
   "source": [
    "# Fare bins:\n",
    "def create_fare_bins(df):\n",
    "    \n",
    "    bins = (-1, 8, 15, 31, 1000)\n",
    "    group_names = [\"1_Quartile\", \"2_Quartile\",\"3_Quartile\",\"4_Quartile\"]\n",
    "    \n",
    "    df[\"Fare_bin\"] = pd.cut(df[\"Fare\"],bins,labels=group_names)\n",
    "\n",
    "    return df;"
   ]
  },
  {
   "cell_type": "code",
   "execution_count": 47,
   "metadata": {},
   "outputs": [
    {
     "name": "stdout",
     "output_type": "stream",
     "text": [
      "           PassengerId Survived          \n",
      "                 count      sum      mean\n",
      "Fare_bin                                 \n",
      "1_Quartile         241       52  0.215768\n",
      "2_Quartile         217       62  0.285714\n",
      "3_Quartile         211       99  0.469194\n",
      "4_Quartile         222      129  0.581081\n"
     ]
    }
   ],
   "source": [
    "train_df = create_fare_bins(train_df);\n",
    "groupbyFieldsInfo(train_df,[\"Fare_bin\"])"
   ]
  },
  {
   "cell_type": "code",
   "execution_count": 48,
   "metadata": {},
   "outputs": [
    {
     "data": {
      "image/png": "[encoded data removed]",
      "text/plain": [
       "<matplotlib.figure.Figure at 0x115d2c470>"
      ]
     },
     "metadata": {},
     "output_type": "display_data"
    }
   ],
   "source": [
    "plot_counter(train_df,\"Fare_bin\",'Quantity of Survivals by Fare')\n",
    "plt.savefig('./figs/FareSurvived.png')"
   ]
  },
  {
   "cell_type": "markdown",
   "metadata": {},
   "source": [
    "### Cabin Letter"
   ]
  },
  {
   "cell_type": "markdown",
   "metadata": {
    "collapsed": true
   },
   "source": [
    "From those cabin information that we have we get that:\n",
    "    - Cabins had  different survival rates.\n",
    "    - Some cabins had differentee range of prices and classes\n",
    "    - The D cabin different classes and prices or age that alomost the same survival rate stayed near than 70% "
   ]
  },
  {
   "cell_type": "code",
   "execution_count": 49,
   "metadata": {},
   "outputs": [
    {
     "name": "stdout",
     "output_type": "stream",
     "text": [
      "             PassengerId Survived          \n",
      "                   count      sum      mean\n",
      "Cabin_Letter                               \n",
      "A                     15        7  0.466667\n",
      "B                     47       35  0.744681\n",
      "C                     59       35  0.593220\n",
      "D                     33       25  0.757576\n",
      "E                     32       24  0.750000\n",
      "F                     13        8  0.615385\n",
      "G                      4        2  0.500000\n",
      "T                      1        0  0.000000\n",
      "U                    687      206  0.299854\n"
     ]
    }
   ],
   "source": [
    "train_df['Cabin'].fillna('U',inplace = True)\n",
    "train_df['Cabin_Letter'] = [*map(lambda x: x[0] , train_df[\"Cabin\"])]\n",
    "groupbyFieldsInfo(train_df,[\"Cabin_Letter\"])"
   ]
  },
  {
   "cell_type": "code",
   "execution_count": 50,
   "metadata": {},
   "outputs": [
    {
     "data": {
      "image/png": "[encoded data removed]",
      "text/plain": [
       "<matplotlib.figure.Figure at 0x115d2fbe0>"
      ]
     },
     "metadata": {},
     "output_type": "display_data"
    }
   ],
   "source": [
    "plot_counter(train_df,\"Cabin_Letter\",'Quantity of Survivals by Cabin Letter')"
   ]
  },
  {
   "cell_type": "markdown",
   "metadata": {},
   "source": [
    "### Tickets"
   ]
  },
  {
   "cell_type": "code",
   "execution_count": 51,
   "metadata": {
    "collapsed": true
   },
   "outputs": [],
   "source": [
    "\n",
    "def prefix_ticket(ticket):\n",
    "    '''\n",
    "    Take the prefix of the ticket\n",
    "    '''\n",
    "    \n",
    "    new_ticket = ticket\n",
    "    \n",
    "    ticket = ticket.replace('.','')\n",
    "    ticket = ticket.replace('/','')\n",
    "    ticket = ticket.split()\n",
    "    ticket_list = []\n",
    "    \n",
    "    for text in ticket:\n",
    "        text = text.strip()\n",
    "        if not text.isdigit():\n",
    "            ticket_list.append(text)\n",
    "            \n",
    "    if len(ticket_list) > 0:\n",
    "        return ticket_list[0]\n",
    "    else: \n",
    "        return 'DIGIT'\n",
    "    "
   ]
  },
  {
   "cell_type": "code",
   "execution_count": 52,
   "metadata": {
    "collapsed": true
   },
   "outputs": [],
   "source": [
    "train_df['Ticket'] = train_df['Ticket'].map(prefix_ticket)"
   ]
  },
  {
   "cell_type": "code",
   "execution_count": 53,
   "metadata": {},
   "outputs": [
    {
     "name": "stdout",
     "output_type": "stream",
     "text": [
      "There are  31  uniques tickets prefixes.\n",
      "        PassengerId Survived          \n",
      "              count      sum      mean\n",
      "Ticket                                \n",
      "A4                7        0  0.000000\n",
      "A5               21        2  0.095238\n",
      "AS                1        0  0.000000\n",
      "C                 5        2  0.400000\n",
      "CA               41       14  0.341463\n",
      "CASOTON           1        0  0.000000\n",
      "DIGIT           661      254  0.384266\n",
      "FC                1        0  0.000000\n",
      "FCC               5        4  0.800000\n",
      "Fa                1        0  0.000000\n",
      "LINE              4        1  0.250000\n",
      "PC               60       39  0.650000\n",
      "PP                3        2  0.666667\n",
      "PPP               2        1  0.500000\n",
      "SC                1        1  1.000000\n",
      "SCA4              1        0  0.000000\n",
      "SCAH              3        2  0.666667\n",
      "SCOW              1        0  0.000000\n",
      "SCPARIS           7        3  0.428571\n",
      "SCParis           4        2  0.500000\n",
      "SOC               6        1  0.166667\n",
      "SOP               1        0  0.000000\n",
      "SOPP              3        0  0.000000\n",
      "SOTONO2           2        0  0.000000\n",
      "SOTONOQ          15        2  0.133333\n",
      "SP                1        0  0.000000\n",
      "STONO            12        5  0.416667\n",
      "STONO2            6        3  0.500000\n",
      "SWPP              2        2  1.000000\n",
      "WC               10        1  0.100000\n",
      "WEP               3        1  0.333333\n"
     ]
    }
   ],
   "source": [
    "print(\"There are \",len(train_df['Ticket'].unique()),\" uniques tickets prefixes.\")\n",
    "groupbyFieldsInfo(train_df,[\"Ticket\"])"
   ]
  },
  {
   "cell_type": "markdown",
   "metadata": {},
   "source": [
    "## Summary for univariate analysis\n",
    "\n",
    "- Sex: More women survived than men.\n",
    "- Pclass: More passengers from Pclass = 1 survived.\n",
    "- Family Sizes: Passengers travelling with small familly sizes (larger than 1 and up to 4) had more survival rate.\n",
    "- Age and Age Bin: Children had a higher survival rate. Followed by Aldults.\n",
    "- Fare and Fare Bin: More expensive tickets more likely was to survive.\n",
    "- Embarked: More passengers from  Cherbourg (C) survived."
   ]
  },
  {
   "cell_type": "markdown",
   "metadata": {},
   "source": [
    "## Multivariate analysis\n",
    "\n",
    "For this part I would like to analyse the relation between:\n",
    "- Fare Bin and Class: To see that if passangers with more expensive tickets were those in first class.\n",
    "- Age Bin and Sex: To see how was the distribution of female with age. Was the survival rate of female children much higher than the survival of male children?\n",
    "- Why passengers from Cherbourg had better survival rate?\n",
    "    - Embarked and Fare, Embarked and Pclass: Passengers from Southamption survived because they bought more expensive tickets?\n",
    "    - Embarked and Sex: Were in Southamption more female and thats way there survived more.\n",
    "    - Embarked and Age: Were there more children in Southamption. "
   ]
  },
  {
   "cell_type": "markdown",
   "metadata": {},
   "source": [
    "### Fare and Pclass\n",
    "\n",
    "From the visualization bellow we can get:\n",
    "- There were more Pclass = 1 in the last quartile where the prices were higher than 75%. And that contributed a lot to their survival.\n",
    "- There were most of Pclass=3 in the first quartile and Pclass=2 in the second quartile where the survival rate was very low."
   ]
  },
  {
   "cell_type": "code",
   "execution_count": 54,
   "metadata": {},
   "outputs": [
    {
     "name": "stdout",
     "output_type": "stream",
     "text": [
      "           PassengerId Survived          \n",
      "                 count      sum      mean\n",
      "Fare_bin                                 \n",
      "1_Quartile         241       52  0.215768\n",
      "2_Quartile         217       62  0.285714\n",
      "3_Quartile         211       99  0.469194\n",
      "4_Quartile         222      129  0.581081\n"
     ]
    }
   ],
   "source": [
    "groupbyFieldsInfo(train_df,[\"Fare_bin\"])"
   ]
  },
  {
   "cell_type": "code",
   "execution_count": 55,
   "metadata": {},
   "outputs": [
    {
     "name": "stdout",
     "output_type": "stream",
     "text": [
      "                  PassengerId Survived          \n",
      "                        count      sum      mean\n",
      "Fare_bin   Pclass                               \n",
      "1_Quartile 1                6        0  0.000000\n",
      "           2                6        0  0.000000\n",
      "           3              229       52  0.227074\n",
      "2_Quartile 2               89       35  0.393258\n",
      "           3              128       27  0.210938\n",
      "3_Quartile 1               51       27  0.529412\n",
      "           2               67       40  0.597015\n",
      "           3               93       32  0.344086\n",
      "4_Quartile 1              159      109  0.685535\n",
      "           2               22       12  0.545455\n",
      "           3               41        8  0.195122\n"
     ]
    }
   ],
   "source": [
    "groupbyFieldsInfo(train_df,[\"Fare_bin\",\"Pclass\"])"
   ]
  },
  {
   "cell_type": "code",
   "execution_count": 56,
   "metadata": {},
   "outputs": [
    {
     "data": {
      "image/png": "[encoded data removed]",
      "text/plain": [
       "<matplotlib.figure.Figure at 0x1163aeba8>"
      ]
     },
     "metadata": {},
     "output_type": "display_data"
    }
   ],
   "source": [
    "plot_boxplot(train_df,\"Fare\",\"Survived by Fare and Pclass\",y=\"Pclass\",hue=\"Survived\")\n",
    "plt.savefig('./figs/SurvivedFarePclass.png')"
   ]
  },
  {
   "cell_type": "markdown",
   "metadata": {},
   "source": [
    "## Sex and Age\n",
    "From the table below we get that:\n",
    "- The chance of survival of a child is equal if it is female or male. \n",
    "- But for female the survival rate for children is less than in other ages.\n",
    "- And for male the survival rate for children is higher than in other ages.\n",
    "- The chance of survival of female in others ages are much higher than the chance of male."
   ]
  },
  {
   "cell_type": "code",
   "execution_count": 57,
   "metadata": {},
   "outputs": [
    {
     "name": "stdout",
     "output_type": "stream",
     "text": [
      "                        PassengerId Survived          \n",
      "                              count      sum      mean\n",
      "Age_bin          Sex                                  \n",
      "1Children(0-12)  female          32       19  0.593750\n",
      "                 male            37       21  0.567568\n",
      "2Teen(13-20)     female          45       34  0.755556\n",
      "                 male            65        8  0.123077\n",
      "3YngAdult(21-28) female         116       83  0.715517\n",
      "                 male           244       35  0.143443\n",
      "4Adult(29-40)    female          73       60  0.821918\n",
      "                 male           129       27  0.209302\n",
      "5OldAdult(41-57) female          41       30  0.731707\n",
      "                 male            76       15  0.197368\n",
      "6Senior(58-82)   female           7        7  1.000000\n",
      "                 male            26        3  0.115385\n"
     ]
    }
   ],
   "source": [
    "groupbyFieldsInfo(train_df,[\"Age_bin\",\"Sex\"])"
   ]
  },
  {
   "cell_type": "code",
   "execution_count": 58,
   "metadata": {},
   "outputs": [
    {
     "data": {
      "image/png": "[encoded data removed]",
      "text/plain": [
       "<matplotlib.figure.Figure at 0x115c3c198>"
      ]
     },
     "metadata": {},
     "output_type": "display_data"
    }
   ],
   "source": [
    "plot_boxplot(train_df,\"Age\",\"Survived by Age and Sex\",y=\"Sex\",hue=\"Survived\")\n",
    "plt.savefig('./figs/SurvivedAgeSex.png')"
   ]
  },
  {
   "cell_type": "markdown",
   "metadata": {},
   "source": [
    "## Fare and Age\n",
    "From the table below we get that:\n",
    "- There weren't children in the first quartile. Almost in others quartile it has near 0.5 survival rate.\n",
    "- Intersting was that in the 4 quartile is were it had less survival rate.\n",
    "- A combination between Fare and Sex can explain adult had the second highest survival rate."
   ]
  },
  {
   "cell_type": "code",
   "execution_count": 59,
   "metadata": {},
   "outputs": [
    {
     "name": "stdout",
     "output_type": "stream",
     "text": [
      "                            PassengerId Survived          \n",
      "                                  count      sum      mean\n",
      "Age_bin          Fare_bin                                 \n",
      "1Children(0-12)  2_Quartile          10        9  0.900000\n",
      "                 3_Quartile          34       20  0.588235\n",
      "                 4_Quartile          25       11  0.440000\n",
      "2Teen(13-20)     1_Quartile          35       10  0.285714\n",
      "                 2_Quartile          39       12  0.307692\n",
      "                 3_Quartile          14        8  0.571429\n",
      "                 4_Quartile          22       12  0.545455\n",
      "3YngAdult(21-28) 1_Quartile         144       35  0.243056\n",
      "                 2_Quartile          81       16  0.197531\n",
      "                 3_Quartile          69       31  0.449275\n",
      "                 4_Quartile          66       36  0.545455\n",
      "4Adult(29-40)    1_Quartile          43        6  0.139535\n",
      "                 2_Quartile          53       17  0.320755\n",
      "                 3_Quartile          55       24  0.436364\n",
      "                 4_Quartile          51       40  0.784314\n",
      "5OldAdult(41-57) 1_Quartile          14        1  0.071429\n",
      "                 2_Quartile          29        6  0.206897\n",
      "                 3_Quartile          31       14  0.451613\n",
      "                 4_Quartile          43       24  0.558140\n",
      "6Senior(58-82)   1_Quartile           5        0  0.000000\n",
      "                 2_Quartile           5        2  0.400000\n",
      "                 3_Quartile           8        2  0.250000\n",
      "                 4_Quartile          15        6  0.400000\n"
     ]
    }
   ],
   "source": [
    "groupbyFieldsInfo(train_df,[\"Age_bin\",\"Fare_bin\"])"
   ]
  },
  {
   "cell_type": "code",
   "execution_count": 60,
   "metadata": {},
   "outputs": [
    {
     "data": {
      "image/png": "[encoded data removed]",
      "text/plain": [
       "<matplotlib.figure.Figure at 0x116353828>"
      ]
     },
     "metadata": {},
     "output_type": "display_data"
    }
   ],
   "source": [
    "plot_scatter(train_df,\"Age\",\"Fare\",\"Scatterplot of Survival of  Fare by Sex \")"
   ]
  },
  {
   "cell_type": "markdown",
   "metadata": {},
   "source": [
    "### Why passengers from Cherbourg had better survival rate?\n",
    "\n",
    "= We can see that in Cherbourg there were had higher percentage of people that bought tickets from the 4th quartile."
   ]
  },
  {
   "cell_type": "code",
   "execution_count": 61,
   "metadata": {},
   "outputs": [
    {
     "name": "stdout",
     "output_type": "stream",
     "text": [
      "         PassengerId Survived          \n",
      "               count      sum      mean\n",
      "Embarked                               \n",
      "C                168       93  0.553571\n",
      "Q                 77       30  0.389610\n",
      "S                646      219  0.339009\n"
     ]
    }
   ],
   "source": [
    "groupbyFieldsInfo(train_df,[\"Embarked\"])"
   ]
  },
  {
   "cell_type": "code",
   "execution_count": 62,
   "metadata": {},
   "outputs": [
    {
     "name": "stdout",
     "output_type": "stream",
     "text": [
      "                    PassengerId Survived          \n",
      "                          count      sum      mean\n",
      "Embarked Fare_bin                                 \n",
      "C        1_Quartile          34        8  0.235294\n",
      "         2_Quartile          21        9  0.428571\n",
      "         3_Quartile          39       21  0.538462\n",
      "         4_Quartile          74       55  0.743243\n",
      "Q        1_Quartile          51       20  0.392157\n",
      "         2_Quartile           6        3  0.500000\n",
      "         3_Quartile          18        6  0.333333\n",
      "         4_Quartile           2        1  0.500000\n",
      "S        1_Quartile         156       24  0.153846\n",
      "         2_Quartile         190       50  0.263158\n",
      "         3_Quartile         154       72  0.467532\n",
      "         4_Quartile         146       73  0.500000\n"
     ]
    }
   ],
   "source": [
    "groupbyFieldsInfo(train_df,[\"Embarked\",\"Fare_bin\"])"
   ]
  },
  {
   "cell_type": "code",
   "execution_count": 63,
   "metadata": {},
   "outputs": [
    {
     "data": {
      "image/png": "[encoded data removed]",
      "text/plain": [
       "<matplotlib.figure.Figure at 0x109f16198>"
      ]
     },
     "metadata": {},
     "output_type": "display_data"
    }
   ],
   "source": [
    "plot_boxplot(train_df,\"Fare\",\"Fare by Embarked\",y=\"Embarked\")"
   ]
  },
  {
   "cell_type": "code",
   "execution_count": 64,
   "metadata": {},
   "outputs": [
    {
     "data": {
      "image/png": "[encoded data removed]",
      "text/plain": [
       "<matplotlib.figure.Figure at 0x1163cfb70>"
      ]
     },
     "metadata": {},
     "output_type": "display_data"
    }
   ],
   "source": [
    "plot_boxplot(train_df,\"Fare\",\"Survived by Fare and Embarked\",y=\"Embarked\",hue=\"Survived\")"
   ]
  },
  {
   "cell_type": "markdown",
   "metadata": {},
   "source": [
    "### Age and Title\n",
    "\n",
    "- We can see that the title of Master is assingned generally to males less than 10.\n",
    "- Miss is also associeated with younger ages than women.\n",
    "- And officer was highly associated with men."
   ]
  },
  {
   "cell_type": "code",
   "execution_count": 65,
   "metadata": {},
   "outputs": [
    {
     "data": {
      "image/png": "[encoded data removed]",
      "text/plain": [
       "<matplotlib.figure.Figure at 0x116fbbc50>"
      ]
     },
     "metadata": {},
     "output_type": "display_data"
    }
   ],
   "source": [
    "plot_boxplot(train_df,\"Age\",\"Survived by Age and Embarked\",y=\"Title\",hue=\"Survived\")"
   ]
  },
  {
   "cell_type": "markdown",
   "metadata": {},
   "source": [
    "# Summary\n",
    "\n",
    "From the analysis above was possible to obtain:\n",
    "- There were more people from Pclass = 1 that bought high price tickets (4 quartile)\n",
    "- Cherbourg had more percentage of people that bought high price tickets (4 quartile)\n",
    "- Most important features are:\n",
    "        - Sex\n",
    "        - Age\n",
    "        - Fare price\n",
    "        \n",
    "- Others that may contribute:\n",
    "    - Pclass \n",
    "    - Embarked\n",
    "    - Family Size"
   ]
  },
  {
   "cell_type": "markdown",
   "metadata": {},
   "source": [
    "## 3. Data Preparation\n",
    "\n",
    "In this step we will:\n",
    "\n",
    "- work with the aggregate dataset (train and test)\n",
    "- We will fill the missing values \n",
    "- Create new featues for in our dataset\n",
    "- Prepare our dataset to modelling."
   ]
  },
  {
   "cell_type": "markdown",
   "metadata": {},
   "source": [
    "## 3.1 Combine the training set and the test set\n",
    "\n",
    "The traning set comes with one more feature that is the label so to combine it with test set we will need to remove and later aggregate with test set. "
   ]
  },
  {
   "cell_type": "code",
   "execution_count": 66,
   "metadata": {
    "collapsed": true
   },
   "outputs": [],
   "source": [
    "def create_combined_df():\n",
    "    \n",
    "    train_df = pd.read_csv('./csvs/train.csv')\n",
    "    test_df = pd.read_csv('./csvs/test.csv')\n",
    "    \n",
    "    labels = train_df.Survived\n",
    "    train_df.drop('Survived',1,inplace=True)\n",
    "    \n",
    "    combined_df = train_df.append(test_df)\n",
    "    combined_df.reset_index(inplace=True)\n",
    "    combined_df.drop('index', inplace=True, axis=1)\n",
    "    \n",
    "    return combined_df;"
   ]
  },
  {
   "cell_type": "code",
   "execution_count": 67,
   "metadata": {},
   "outputs": [
    {
     "data": {
      "text/html": [
       "<div>\n",
       "<style>\n",
       "    .dataframe thead tr:only-child th {\n",
       "        text-align: right;\n",
       "    }\n",
       "\n",
       "    .dataframe thead th {\n",
       "        text-align: left;\n",
       "    }\n",
       "\n",
       "    .dataframe tbody tr th {\n",
       "        vertical-align: top;\n",
       "    }\n",
       "</style>\n",
       "<table border=\"1\" class=\"dataframe\">\n",
       "  <thead>\n",
       "    <tr style=\"text-align: right;\">\n",
       "      <th></th>\n",
       "      <th>PassengerId</th>\n",
       "      <th>Pclass</th>\n",
       "      <th>Name</th>\n",
       "      <th>Sex</th>\n",
       "      <th>Age</th>\n",
       "      <th>SibSp</th>\n",
       "      <th>Parch</th>\n",
       "      <th>Ticket</th>\n",
       "      <th>Fare</th>\n",
       "      <th>Cabin</th>\n",
       "      <th>Embarked</th>\n",
       "    </tr>\n",
       "  </thead>\n",
       "  <tbody>\n",
       "    <tr>\n",
       "      <th>0</th>\n",
       "      <td>1</td>\n",
       "      <td>3</td>\n",
       "      <td>Braund, Mr. Owen Harris</td>\n",
       "      <td>male</td>\n",
       "      <td>22.0</td>\n",
       "      <td>1</td>\n",
       "      <td>0</td>\n",
       "      <td>A/5 21171</td>\n",
       "      <td>7.2500</td>\n",
       "      <td>NaN</td>\n",
       "      <td>S</td>\n",
       "    </tr>\n",
       "    <tr>\n",
       "      <th>1</th>\n",
       "      <td>2</td>\n",
       "      <td>1</td>\n",
       "      <td>Cumings, Mrs. John Bradley (Florence Briggs Th...</td>\n",
       "      <td>female</td>\n",
       "      <td>38.0</td>\n",
       "      <td>1</td>\n",
       "      <td>0</td>\n",
       "      <td>PC 17599</td>\n",
       "      <td>71.2833</td>\n",
       "      <td>C85</td>\n",
       "      <td>C</td>\n",
       "    </tr>\n",
       "    <tr>\n",
       "      <th>2</th>\n",
       "      <td>3</td>\n",
       "      <td>3</td>\n",
       "      <td>Heikkinen, Miss. Laina</td>\n",
       "      <td>female</td>\n",
       "      <td>26.0</td>\n",
       "      <td>0</td>\n",
       "      <td>0</td>\n",
       "      <td>STON/O2. 3101282</td>\n",
       "      <td>7.9250</td>\n",
       "      <td>NaN</td>\n",
       "      <td>S</td>\n",
       "    </tr>\n",
       "    <tr>\n",
       "      <th>3</th>\n",
       "      <td>4</td>\n",
       "      <td>1</td>\n",
       "      <td>Futrelle, Mrs. Jacques Heath (Lily May Peel)</td>\n",
       "      <td>female</td>\n",
       "      <td>35.0</td>\n",
       "      <td>1</td>\n",
       "      <td>0</td>\n",
       "      <td>113803</td>\n",
       "      <td>53.1000</td>\n",
       "      <td>C123</td>\n",
       "      <td>S</td>\n",
       "    </tr>\n",
       "    <tr>\n",
       "      <th>4</th>\n",
       "      <td>5</td>\n",
       "      <td>3</td>\n",
       "      <td>Allen, Mr. William Henry</td>\n",
       "      <td>male</td>\n",
       "      <td>35.0</td>\n",
       "      <td>0</td>\n",
       "      <td>0</td>\n",
       "      <td>373450</td>\n",
       "      <td>8.0500</td>\n",
       "      <td>NaN</td>\n",
       "      <td>S</td>\n",
       "    </tr>\n",
       "  </tbody>\n",
       "</table>\n",
       "</div>"
      ],
      "text/plain": [
       "   PassengerId  Pclass                                               Name  \\\n",
       "0            1       3                            Braund, Mr. Owen Harris   \n",
       "1            2       1  Cumings, Mrs. John Bradley (Florence Briggs Th...   \n",
       "2            3       3                             Heikkinen, Miss. Laina   \n",
       "3            4       1       Futrelle, Mrs. Jacques Heath (Lily May Peel)   \n",
       "4            5       3                           Allen, Mr. William Henry   \n",
       "\n",
       "      Sex   Age  SibSp  Parch            Ticket     Fare Cabin Embarked  \n",
       "0    male  22.0      1      0         A/5 21171   7.2500   NaN        S  \n",
       "1  female  38.0      1      0          PC 17599  71.2833   C85        C  \n",
       "2  female  26.0      0      0  STON/O2. 3101282   7.9250   NaN        S  \n",
       "3  female  35.0      1      0            113803  53.1000  C123        S  \n",
       "4    male  35.0      0      0            373450   8.0500   NaN        S  "
      ]
     },
     "execution_count": 67,
     "metadata": {},
     "output_type": "execute_result"
    }
   ],
   "source": [
    "train_df = pd.read_csv('./csvs/train.csv')\n",
    "test_df = pd.read_csv('./csvs/test.csv')\n",
    "combined_df = create_combined_df();\n",
    "\n",
    "combined_df.head()"
   ]
  },
  {
   "cell_type": "markdown",
   "metadata": {},
   "source": [
    "# 3.2 Missing Data and Feature Engineering\n",
    "\n",
    "In this part, we will fill the missing values and  create new featues for in our dataset.\n",
    "\n",
    "Here we are also going to use functions created in part 2.2 Creating Feature."
   ]
  },
  {
   "cell_type": "code",
   "execution_count": 68,
   "metadata": {
    "collapsed": true
   },
   "outputs": [],
   "source": [
    "def print_missing_data(df):\n",
    "    \"It prints the mising data\"\n",
    "    print(\"Missing values by field:\\n\");\n",
    "    print(df.isnull().sum())"
   ]
  },
  {
   "cell_type": "code",
   "execution_count": 69,
   "metadata": {
    "collapsed": true
   },
   "outputs": [],
   "source": [
    "# dummy encode: farebin, agebin, family_bin, sex\n",
    "def encoding_feature(df,field):\n",
    "\n",
    "    df_dummies = pd.get_dummies(df[field],prefix=field)\n",
    "    df = pd.concat([df,df_dummies],axis = 1)\n",
    "    df.drop(field, axis=1,inplace = True)\n",
    "    \n",
    "    return df\n",
    "def factorization_feature(df,field):\n",
    "    \n",
    "    df[field] = pd.factorize(df[field])[0]\n",
    "\n",
    "    return df"
   ]
  },
  {
   "cell_type": "markdown",
   "metadata": {},
   "source": [
    "**Missing Data**\n",
    "\n",
    "\n",
    "There are missing data:\n",
    "\n",
    "+ Fare (1 value) \n",
    "+ Embarked (2 values) \n",
    "+ Age (263 values)\n",
    "+ Cabin (1014 values)\n",
    "\n",
    "There are several ways to deal with missing values:\n",
    "\n",
    "1. Dropping the feature\n",
    "2. Assign to a value that indicates a missing values - I used for missing values in Cabin\n",
    "3. Assign the avarage value - I used for missing values in Embark and Fare\n",
    "4. Using a Predictive Technique - I used it for missing values in Missing Age\n"
   ]
  },
  {
   "cell_type": "code",
   "execution_count": 70,
   "metadata": {},
   "outputs": [
    {
     "name": "stdout",
     "output_type": "stream",
     "text": [
      "Missing Value in Combined Data Frame:\n",
      "Missing values by field:\n",
      "\n",
      "PassengerId       0\n",
      "Pclass            0\n",
      "Name              0\n",
      "Sex               0\n",
      "Age             263\n",
      "SibSp             0\n",
      "Parch             0\n",
      "Ticket            0\n",
      "Fare              1\n",
      "Cabin          1014\n",
      "Embarked          2\n",
      "dtype: int64\n"
     ]
    }
   ],
   "source": [
    "print(\"Missing Value in Combined Data Frame:\")\n",
    "print_missing_data(combined_df)"
   ]
  },
  {
   "cell_type": "markdown",
   "metadata": {},
   "source": [
    "### Sex"
   ]
  },
  {
   "cell_type": "markdown",
   "metadata": {},
   "source": [
    "We will map sex into 1 for female and 0 for male and create a new feature sex_female"
   ]
  },
  {
   "cell_type": "code",
   "execution_count": 71,
   "metadata": {
    "collapsed": true
   },
   "outputs": [],
   "source": [
    "combined_df['Sex_female'] = combined_df['Sex'].map({'female':1,'male':0})\n",
    "combined_df.drop(\"Sex\", axis=1,inplace = True)"
   ]
  },
  {
   "cell_type": "markdown",
   "metadata": {},
   "source": [
    "### Cabin"
   ]
  },
  {
   "cell_type": "markdown",
   "metadata": {},
   "source": [
    "We saw that for Cabin we have that almost 80% of its data is missing.\n",
    "For that I will replace NaN by U (Unknown)"
   ]
  },
  {
   "cell_type": "code",
   "execution_count": 72,
   "metadata": {
    "collapsed": true
   },
   "outputs": [],
   "source": [
    "combined_df['Cabin'].fillna('U',inplace = True)\n",
    "combined_df['Cabin_Letter'] = [*map(lambda x: x[0] , combined_df[\"Cabin\"])]"
   ]
  },
  {
   "cell_type": "code",
   "execution_count": 73,
   "metadata": {
    "collapsed": true
   },
   "outputs": [],
   "source": [
    "combined_df = encoding_feature(combined_df,'Cabin_Letter')\n",
    "combined_df.drop(\"Cabin\",axis=1,inplace=True)"
   ]
  },
  {
   "cell_type": "markdown",
   "metadata": {},
   "source": [
    "### Title"
   ]
  },
  {
   "cell_type": "markdown",
   "metadata": {},
   "source": [
    "First we will take the title name and then dummy encode it in our dataset."
   ]
  },
  {
   "cell_type": "code",
   "execution_count": 74,
   "metadata": {
    "collapsed": true
   },
   "outputs": [],
   "source": [
    "combined_df = get_Title_Names(combined_df)"
   ]
  },
  {
   "cell_type": "code",
   "execution_count": 75,
   "metadata": {
    "collapsed": true
   },
   "outputs": [],
   "source": [
    "combined_df = encoding_feature(combined_df,'Title')\n",
    "combined_df.drop(\"Name\",axis=1,inplace=True)"
   ]
  },
  {
   "cell_type": "markdown",
   "metadata": {},
   "source": [
    "### Fare"
   ]
  },
  {
   "cell_type": "markdown",
   "metadata": {},
   "source": [
    "First we will get the rows with missing Fare."
   ]
  },
  {
   "cell_type": "code",
   "execution_count": 76,
   "metadata": {},
   "outputs": [
    {
     "data": {
      "text/html": [
       "<div>\n",
       "<style>\n",
       "    .dataframe thead tr:only-child th {\n",
       "        text-align: right;\n",
       "    }\n",
       "\n",
       "    .dataframe thead th {\n",
       "        text-align: left;\n",
       "    }\n",
       "\n",
       "    .dataframe tbody tr th {\n",
       "        vertical-align: top;\n",
       "    }\n",
       "</style>\n",
       "<table border=\"1\" class=\"dataframe\">\n",
       "  <thead>\n",
       "    <tr style=\"text-align: right;\">\n",
       "      <th></th>\n",
       "      <th>PassengerId</th>\n",
       "      <th>Pclass</th>\n",
       "      <th>Age</th>\n",
       "      <th>SibSp</th>\n",
       "      <th>Parch</th>\n",
       "      <th>Ticket</th>\n",
       "      <th>Fare</th>\n",
       "      <th>Embarked</th>\n",
       "      <th>Sex_female</th>\n",
       "      <th>Cabin_Letter_A</th>\n",
       "      <th>...</th>\n",
       "      <th>Cabin_Letter_F</th>\n",
       "      <th>Cabin_Letter_G</th>\n",
       "      <th>Cabin_Letter_T</th>\n",
       "      <th>Cabin_Letter_U</th>\n",
       "      <th>Title_Master</th>\n",
       "      <th>Title_Miss</th>\n",
       "      <th>Title_Mr</th>\n",
       "      <th>Title_Mrs</th>\n",
       "      <th>Title_Officer</th>\n",
       "      <th>Title_Royalty</th>\n",
       "    </tr>\n",
       "  </thead>\n",
       "  <tbody>\n",
       "    <tr>\n",
       "      <th>1043</th>\n",
       "      <td>1044</td>\n",
       "      <td>3</td>\n",
       "      <td>60.5</td>\n",
       "      <td>0</td>\n",
       "      <td>0</td>\n",
       "      <td>3701</td>\n",
       "      <td>NaN</td>\n",
       "      <td>S</td>\n",
       "      <td>0</td>\n",
       "      <td>0</td>\n",
       "      <td>...</td>\n",
       "      <td>0</td>\n",
       "      <td>0</td>\n",
       "      <td>0</td>\n",
       "      <td>1</td>\n",
       "      <td>0</td>\n",
       "      <td>0</td>\n",
       "      <td>1</td>\n",
       "      <td>0</td>\n",
       "      <td>0</td>\n",
       "      <td>0</td>\n",
       "    </tr>\n",
       "  </tbody>\n",
       "</table>\n",
       "<p>1 rows × 24 columns</p>\n",
       "</div>"
      ],
      "text/plain": [
       "      PassengerId  Pclass   Age  SibSp  Parch Ticket  Fare Embarked  \\\n",
       "1043         1044       3  60.5      0      0   3701   NaN        S   \n",
       "\n",
       "      Sex_female  Cabin_Letter_A      ...        Cabin_Letter_F  \\\n",
       "1043           0               0      ...                     0   \n",
       "\n",
       "      Cabin_Letter_G  Cabin_Letter_T  Cabin_Letter_U  Title_Master  \\\n",
       "1043               0               0               1             0   \n",
       "\n",
       "      Title_Miss  Title_Mr  Title_Mrs  Title_Officer  Title_Royalty  \n",
       "1043           0         1          0              0              0  \n",
       "\n",
       "[1 rows x 24 columns]"
      ]
     },
     "execution_count": 76,
     "metadata": {},
     "output_type": "execute_result"
    }
   ],
   "source": [
    "# trying to fill the missing data\n",
    "missing_Fare = combined_df[combined_df[\"Fare\"].isnull()]\n",
    "missing_Fare"
   ]
  },
  {
   "cell_type": "markdown",
   "metadata": {},
   "source": [
    "Now that we got information about the row that doesn't have the Fare. We will try to see if the ticket is duplicated. Because as showed above, when we have a duplicated ticket the fare price remained the same. "
   ]
  },
  {
   "cell_type": "code",
   "execution_count": 77,
   "metadata": {},
   "outputs": [
    {
     "data": {
      "text/html": [
       "<div>\n",
       "<style>\n",
       "    .dataframe thead tr:only-child th {\n",
       "        text-align: right;\n",
       "    }\n",
       "\n",
       "    .dataframe thead th {\n",
       "        text-align: left;\n",
       "    }\n",
       "\n",
       "    .dataframe tbody tr th {\n",
       "        vertical-align: top;\n",
       "    }\n",
       "</style>\n",
       "<table border=\"1\" class=\"dataframe\">\n",
       "  <thead>\n",
       "    <tr style=\"text-align: right;\">\n",
       "      <th></th>\n",
       "      <th>PassengerId</th>\n",
       "      <th>Pclass</th>\n",
       "      <th>Age</th>\n",
       "      <th>SibSp</th>\n",
       "      <th>Parch</th>\n",
       "      <th>Ticket</th>\n",
       "      <th>Fare</th>\n",
       "      <th>Embarked</th>\n",
       "      <th>Sex_female</th>\n",
       "      <th>Cabin_Letter_A</th>\n",
       "      <th>...</th>\n",
       "      <th>Cabin_Letter_F</th>\n",
       "      <th>Cabin_Letter_G</th>\n",
       "      <th>Cabin_Letter_T</th>\n",
       "      <th>Cabin_Letter_U</th>\n",
       "      <th>Title_Master</th>\n",
       "      <th>Title_Miss</th>\n",
       "      <th>Title_Mr</th>\n",
       "      <th>Title_Mrs</th>\n",
       "      <th>Title_Officer</th>\n",
       "      <th>Title_Royalty</th>\n",
       "    </tr>\n",
       "  </thead>\n",
       "  <tbody>\n",
       "    <tr>\n",
       "      <th>1043</th>\n",
       "      <td>1044</td>\n",
       "      <td>3</td>\n",
       "      <td>60.5</td>\n",
       "      <td>0</td>\n",
       "      <td>0</td>\n",
       "      <td>3701</td>\n",
       "      <td>NaN</td>\n",
       "      <td>S</td>\n",
       "      <td>0</td>\n",
       "      <td>0</td>\n",
       "      <td>...</td>\n",
       "      <td>0</td>\n",
       "      <td>0</td>\n",
       "      <td>0</td>\n",
       "      <td>1</td>\n",
       "      <td>0</td>\n",
       "      <td>0</td>\n",
       "      <td>1</td>\n",
       "      <td>0</td>\n",
       "      <td>0</td>\n",
       "      <td>0</td>\n",
       "    </tr>\n",
       "  </tbody>\n",
       "</table>\n",
       "<p>1 rows × 24 columns</p>\n",
       "</div>"
      ],
      "text/plain": [
       "      PassengerId  Pclass   Age  SibSp  Parch Ticket  Fare Embarked  \\\n",
       "1043         1044       3  60.5      0      0   3701   NaN        S   \n",
       "\n",
       "      Sex_female  Cabin_Letter_A      ...        Cabin_Letter_F  \\\n",
       "1043           0               0      ...                     0   \n",
       "\n",
       "      Cabin_Letter_G  Cabin_Letter_T  Cabin_Letter_U  Title_Master  \\\n",
       "1043               0               0               1             0   \n",
       "\n",
       "      Title_Miss  Title_Mr  Title_Mrs  Title_Officer  Title_Royalty  \n",
       "1043           0         1          0              0              0  \n",
       "\n",
       "[1 rows x 24 columns]"
      ]
     },
     "execution_count": 77,
     "metadata": {},
     "output_type": "execute_result"
    }
   ],
   "source": [
    "combined_df[(combined_df[\"Ticket\"] == \"3701\")]"
   ]
  },
  {
   "cell_type": "markdown",
   "metadata": {},
   "source": [
    "But unfortunally the Ticket showed us that the ticket didn't appered more than once in our dataset. So we will try to get the mean of tickets that ws used also for Senior, males, that also embarked in Southamtion. "
   ]
  },
  {
   "cell_type": "code",
   "execution_count": 78,
   "metadata": {},
   "outputs": [
    {
     "data": {
      "text/plain": [
       "7.00625"
      ]
     },
     "execution_count": 78,
     "metadata": {},
     "output_type": "execute_result"
    }
   ],
   "source": [
    "df_predict_fare = combined_df[(combined_df[\"Age\"] > 60.0) & (combined_df[\"Sex_female\"] == 0) & (combined_df['Embarked'] == 'S')&(combined_df['Pclass'] == 3)].sort_values(\"Ticket\")\n",
    "Fare_mean_predict = df_predict_fare[\"Fare\"].mean()\n",
    "Fare_mean_predict"
   ]
  },
  {
   "cell_type": "code",
   "execution_count": 79,
   "metadata": {
    "collapsed": true
   },
   "outputs": [],
   "source": [
    " combined_df.loc[combined_df[\"Fare\"].isnull(),\"Fare\"] =  Fare_mean_predict"
   ]
  },
  {
   "cell_type": "markdown",
   "metadata": {},
   "source": [
    "We got the mean and updated to the missing fare. Now let's update our Fare bin!"
   ]
  },
  {
   "cell_type": "code",
   "execution_count": 80,
   "metadata": {
    "collapsed": true
   },
   "outputs": [],
   "source": [
    "combined_df = create_fare_bins(combined_df)"
   ]
  },
  {
   "cell_type": "markdown",
   "metadata": {},
   "source": [
    "Enconding Feature "
   ]
  },
  {
   "cell_type": "code",
   "execution_count": 81,
   "metadata": {
    "collapsed": true
   },
   "outputs": [],
   "source": [
    "combined_df = encoding_feature(combined_df,'Fare_bin')"
   ]
  },
  {
   "cell_type": "markdown",
   "metadata": {},
   "source": [
    "### Family (SibSp and Parch)"
   ]
  },
  {
   "cell_type": "code",
   "execution_count": 82,
   "metadata": {
    "collapsed": true
   },
   "outputs": [],
   "source": [
    "combined_df = create_family_size(combined_df)"
   ]
  },
  {
   "cell_type": "code",
   "execution_count": 83,
   "metadata": {
    "collapsed": true
   },
   "outputs": [],
   "source": [
    "combined_df = encoding_feature(combined_df,'Family_bin')"
   ]
  },
  {
   "cell_type": "markdown",
   "metadata": {},
   "source": [
    "### Embarked"
   ]
  },
  {
   "cell_type": "markdown",
   "metadata": {},
   "source": [
    "First we will get the rows with missing Embarked."
   ]
  },
  {
   "cell_type": "code",
   "execution_count": 84,
   "metadata": {},
   "outputs": [
    {
     "data": {
      "text/html": [
       "<div>\n",
       "<style>\n",
       "    .dataframe thead tr:only-child th {\n",
       "        text-align: right;\n",
       "    }\n",
       "\n",
       "    .dataframe thead th {\n",
       "        text-align: left;\n",
       "    }\n",
       "\n",
       "    .dataframe tbody tr th {\n",
       "        vertical-align: top;\n",
       "    }\n",
       "</style>\n",
       "<table border=\"1\" class=\"dataframe\">\n",
       "  <thead>\n",
       "    <tr style=\"text-align: right;\">\n",
       "      <th></th>\n",
       "      <th>PassengerId</th>\n",
       "      <th>Pclass</th>\n",
       "      <th>Age</th>\n",
       "      <th>SibSp</th>\n",
       "      <th>Parch</th>\n",
       "      <th>Ticket</th>\n",
       "      <th>Fare</th>\n",
       "      <th>Embarked</th>\n",
       "      <th>Sex_female</th>\n",
       "      <th>Cabin_Letter_A</th>\n",
       "      <th>...</th>\n",
       "      <th>Title_Officer</th>\n",
       "      <th>Title_Royalty</th>\n",
       "      <th>Fare_bin_1_Quartile</th>\n",
       "      <th>Fare_bin_2_Quartile</th>\n",
       "      <th>Fare_bin_3_Quartile</th>\n",
       "      <th>Fare_bin_4_Quartile</th>\n",
       "      <th>FamilySize</th>\n",
       "      <th>Family_bin_1_Singleton(1Person)</th>\n",
       "      <th>Family_bin_2_SmallFamily(2-4People)</th>\n",
       "      <th>Family_bin_3_LargeFamily(5-12People)</th>\n",
       "    </tr>\n",
       "  </thead>\n",
       "  <tbody>\n",
       "    <tr>\n",
       "      <th>61</th>\n",
       "      <td>62</td>\n",
       "      <td>1</td>\n",
       "      <td>38.0</td>\n",
       "      <td>0</td>\n",
       "      <td>0</td>\n",
       "      <td>113572</td>\n",
       "      <td>80.0</td>\n",
       "      <td>NaN</td>\n",
       "      <td>1</td>\n",
       "      <td>0</td>\n",
       "      <td>...</td>\n",
       "      <td>0</td>\n",
       "      <td>0</td>\n",
       "      <td>0</td>\n",
       "      <td>0</td>\n",
       "      <td>0</td>\n",
       "      <td>1</td>\n",
       "      <td>1</td>\n",
       "      <td>1</td>\n",
       "      <td>0</td>\n",
       "      <td>0</td>\n",
       "    </tr>\n",
       "    <tr>\n",
       "      <th>829</th>\n",
       "      <td>830</td>\n",
       "      <td>1</td>\n",
       "      <td>62.0</td>\n",
       "      <td>0</td>\n",
       "      <td>0</td>\n",
       "      <td>113572</td>\n",
       "      <td>80.0</td>\n",
       "      <td>NaN</td>\n",
       "      <td>1</td>\n",
       "      <td>0</td>\n",
       "      <td>...</td>\n",
       "      <td>0</td>\n",
       "      <td>0</td>\n",
       "      <td>0</td>\n",
       "      <td>0</td>\n",
       "      <td>0</td>\n",
       "      <td>1</td>\n",
       "      <td>1</td>\n",
       "      <td>1</td>\n",
       "      <td>0</td>\n",
       "      <td>0</td>\n",
       "    </tr>\n",
       "  </tbody>\n",
       "</table>\n",
       "<p>2 rows × 32 columns</p>\n",
       "</div>"
      ],
      "text/plain": [
       "     PassengerId  Pclass   Age  SibSp  Parch  Ticket  Fare Embarked  \\\n",
       "61            62       1  38.0      0      0  113572  80.0      NaN   \n",
       "829          830       1  62.0      0      0  113572  80.0      NaN   \n",
       "\n",
       "     Sex_female  Cabin_Letter_A                  ...                   \\\n",
       "61            1               0                  ...                    \n",
       "829           1               0                  ...                    \n",
       "\n",
       "     Title_Officer  Title_Royalty  Fare_bin_1_Quartile  Fare_bin_2_Quartile  \\\n",
       "61               0              0                    0                    0   \n",
       "829              0              0                    0                    0   \n",
       "\n",
       "     Fare_bin_3_Quartile  Fare_bin_4_Quartile  FamilySize  \\\n",
       "61                     0                    1           1   \n",
       "829                    0                    1           1   \n",
       "\n",
       "     Family_bin_1_Singleton(1Person)  Family_bin_2_SmallFamily(2-4People)  \\\n",
       "61                                 1                                    0   \n",
       "829                                1                                    0   \n",
       "\n",
       "     Family_bin_3_LargeFamily(5-12People)  \n",
       "61                                      0  \n",
       "829                                     0  \n",
       "\n",
       "[2 rows x 32 columns]"
      ]
     },
     "execution_count": 84,
     "metadata": {},
     "output_type": "execute_result"
    }
   ],
   "source": [
    "# trying to fill the missing data\n",
    "combined_df[combined_df[\"Embarked\"].isnull()]"
   ]
  },
  {
   "cell_type": "markdown",
   "metadata": {},
   "source": [
    "We will use as base to our prediction for those missing values in Embark those with female sex,in  4_Quartile fare_bin, in first class and travelling alone. "
   ]
  },
  {
   "cell_type": "code",
   "execution_count": 85,
   "metadata": {},
   "outputs": [
    {
     "data": {
      "text/html": [
       "<div>\n",
       "<style>\n",
       "    .dataframe thead tr:only-child th {\n",
       "        text-align: right;\n",
       "    }\n",
       "\n",
       "    .dataframe thead th {\n",
       "        text-align: left;\n",
       "    }\n",
       "\n",
       "    .dataframe tbody tr th {\n",
       "        vertical-align: top;\n",
       "    }\n",
       "</style>\n",
       "<table border=\"1\" class=\"dataframe\">\n",
       "  <thead>\n",
       "    <tr style=\"text-align: right;\">\n",
       "      <th></th>\n",
       "      <th>PassengerId</th>\n",
       "      <th>Pclass</th>\n",
       "      <th>Age</th>\n",
       "      <th>SibSp</th>\n",
       "      <th>Parch</th>\n",
       "      <th>Ticket</th>\n",
       "      <th>Fare</th>\n",
       "      <th>Embarked</th>\n",
       "      <th>Sex_female</th>\n",
       "      <th>Cabin_Letter_A</th>\n",
       "      <th>...</th>\n",
       "      <th>Title_Officer</th>\n",
       "      <th>Title_Royalty</th>\n",
       "      <th>Fare_bin_1_Quartile</th>\n",
       "      <th>Fare_bin_2_Quartile</th>\n",
       "      <th>Fare_bin_3_Quartile</th>\n",
       "      <th>Fare_bin_4_Quartile</th>\n",
       "      <th>FamilySize</th>\n",
       "      <th>Family_bin_1_Singleton(1Person)</th>\n",
       "      <th>Family_bin_2_SmallFamily(2-4People)</th>\n",
       "      <th>Family_bin_3_LargeFamily(5-12People)</th>\n",
       "    </tr>\n",
       "  </thead>\n",
       "  <tbody>\n",
       "    <tr>\n",
       "      <th>195</th>\n",
       "      <td>196</td>\n",
       "      <td>1</td>\n",
       "      <td>58.0</td>\n",
       "      <td>0</td>\n",
       "      <td>0</td>\n",
       "      <td>PC 17569</td>\n",
       "      <td>146.5208</td>\n",
       "      <td>C</td>\n",
       "      <td>1</td>\n",
       "      <td>0</td>\n",
       "      <td>...</td>\n",
       "      <td>0</td>\n",
       "      <td>0</td>\n",
       "      <td>0</td>\n",
       "      <td>0</td>\n",
       "      <td>0</td>\n",
       "      <td>1</td>\n",
       "      <td>1</td>\n",
       "      <td>1</td>\n",
       "      <td>0</td>\n",
       "      <td>0</td>\n",
       "    </tr>\n",
       "    <tr>\n",
       "      <th>218</th>\n",
       "      <td>219</td>\n",
       "      <td>1</td>\n",
       "      <td>32.0</td>\n",
       "      <td>0</td>\n",
       "      <td>0</td>\n",
       "      <td>11813</td>\n",
       "      <td>76.2917</td>\n",
       "      <td>C</td>\n",
       "      <td>1</td>\n",
       "      <td>0</td>\n",
       "      <td>...</td>\n",
       "      <td>0</td>\n",
       "      <td>0</td>\n",
       "      <td>0</td>\n",
       "      <td>0</td>\n",
       "      <td>0</td>\n",
       "      <td>1</td>\n",
       "      <td>1</td>\n",
       "      <td>1</td>\n",
       "      <td>0</td>\n",
       "      <td>0</td>\n",
       "    </tr>\n",
       "    <tr>\n",
       "      <th>256</th>\n",
       "      <td>257</td>\n",
       "      <td>1</td>\n",
       "      <td>NaN</td>\n",
       "      <td>0</td>\n",
       "      <td>0</td>\n",
       "      <td>PC 17585</td>\n",
       "      <td>79.2000</td>\n",
       "      <td>C</td>\n",
       "      <td>1</td>\n",
       "      <td>0</td>\n",
       "      <td>...</td>\n",
       "      <td>0</td>\n",
       "      <td>0</td>\n",
       "      <td>0</td>\n",
       "      <td>0</td>\n",
       "      <td>0</td>\n",
       "      <td>1</td>\n",
       "      <td>1</td>\n",
       "      <td>1</td>\n",
       "      <td>0</td>\n",
       "      <td>0</td>\n",
       "    </tr>\n",
       "    <tr>\n",
       "      <th>257</th>\n",
       "      <td>258</td>\n",
       "      <td>1</td>\n",
       "      <td>30.0</td>\n",
       "      <td>0</td>\n",
       "      <td>0</td>\n",
       "      <td>110152</td>\n",
       "      <td>86.5000</td>\n",
       "      <td>S</td>\n",
       "      <td>1</td>\n",
       "      <td>0</td>\n",
       "      <td>...</td>\n",
       "      <td>0</td>\n",
       "      <td>0</td>\n",
       "      <td>0</td>\n",
       "      <td>0</td>\n",
       "      <td>0</td>\n",
       "      <td>1</td>\n",
       "      <td>1</td>\n",
       "      <td>1</td>\n",
       "      <td>0</td>\n",
       "      <td>0</td>\n",
       "    </tr>\n",
       "    <tr>\n",
       "      <th>258</th>\n",
       "      <td>259</td>\n",
       "      <td>1</td>\n",
       "      <td>35.0</td>\n",
       "      <td>0</td>\n",
       "      <td>0</td>\n",
       "      <td>PC 17755</td>\n",
       "      <td>512.3292</td>\n",
       "      <td>C</td>\n",
       "      <td>1</td>\n",
       "      <td>0</td>\n",
       "      <td>...</td>\n",
       "      <td>0</td>\n",
       "      <td>0</td>\n",
       "      <td>0</td>\n",
       "      <td>0</td>\n",
       "      <td>0</td>\n",
       "      <td>1</td>\n",
       "      <td>1</td>\n",
       "      <td>1</td>\n",
       "      <td>0</td>\n",
       "      <td>0</td>\n",
       "    </tr>\n",
       "  </tbody>\n",
       "</table>\n",
       "<p>5 rows × 32 columns</p>\n",
       "</div>"
      ],
      "text/plain": [
       "     PassengerId  Pclass   Age  SibSp  Parch    Ticket      Fare Embarked  \\\n",
       "195          196       1  58.0      0      0  PC 17569  146.5208        C   \n",
       "218          219       1  32.0      0      0     11813   76.2917        C   \n",
       "256          257       1   NaN      0      0  PC 17585   79.2000        C   \n",
       "257          258       1  30.0      0      0    110152   86.5000        S   \n",
       "258          259       1  35.0      0      0  PC 17755  512.3292        C   \n",
       "\n",
       "     Sex_female  Cabin_Letter_A                  ...                   \\\n",
       "195           1               0                  ...                    \n",
       "218           1               0                  ...                    \n",
       "256           1               0                  ...                    \n",
       "257           1               0                  ...                    \n",
       "258           1               0                  ...                    \n",
       "\n",
       "     Title_Officer  Title_Royalty  Fare_bin_1_Quartile  Fare_bin_2_Quartile  \\\n",
       "195              0              0                    0                    0   \n",
       "218              0              0                    0                    0   \n",
       "256              0              0                    0                    0   \n",
       "257              0              0                    0                    0   \n",
       "258              0              0                    0                    0   \n",
       "\n",
       "     Fare_bin_3_Quartile  Fare_bin_4_Quartile  FamilySize  \\\n",
       "195                    0                    1           1   \n",
       "218                    0                    1           1   \n",
       "256                    0                    1           1   \n",
       "257                    0                    1           1   \n",
       "258                    0                    1           1   \n",
       "\n",
       "     Family_bin_1_Singleton(1Person)  Family_bin_2_SmallFamily(2-4People)  \\\n",
       "195                                1                                    0   \n",
       "218                                1                                    0   \n",
       "256                                1                                    0   \n",
       "257                                1                                    0   \n",
       "258                                1                                    0   \n",
       "\n",
       "     Family_bin_3_LargeFamily(5-12People)  \n",
       "195                                     0  \n",
       "218                                     0  \n",
       "256                                     0  \n",
       "257                                     0  \n",
       "258                                     0  \n",
       "\n",
       "[5 rows x 32 columns]"
      ]
     },
     "execution_count": 85,
     "metadata": {},
     "output_type": "execute_result"
    }
   ],
   "source": [
    "df_predict_embark = combined_df[(combined_df[\"Embarked\"].notnull()) & (combined_df['Fare_bin_4_Quartile'] == 1)  & (combined_df['Pclass'] == 1) & (combined_df['Sex_female'] == 1) &(combined_df['FamilySize'] == 1 )]\n",
    "df_predict_embark.head()"
   ]
  },
  {
   "cell_type": "markdown",
   "metadata": {},
   "source": [
    "Once we got the most similar rows to those that we want to predictwhere they embarked. I will analyse those that are similar age to Miss Icard."
   ]
  },
  {
   "cell_type": "code",
   "execution_count": 86,
   "metadata": {},
   "outputs": [
    {
     "data": {
      "text/html": [
       "<div>\n",
       "<style>\n",
       "    .dataframe thead tr:only-child th {\n",
       "        text-align: right;\n",
       "    }\n",
       "\n",
       "    .dataframe thead th {\n",
       "        text-align: left;\n",
       "    }\n",
       "\n",
       "    .dataframe tbody tr th {\n",
       "        vertical-align: top;\n",
       "    }\n",
       "</style>\n",
       "<table border=\"1\" class=\"dataframe\">\n",
       "  <thead>\n",
       "    <tr style=\"text-align: right;\">\n",
       "      <th></th>\n",
       "      <th>PassengerId</th>\n",
       "      <th>Pclass</th>\n",
       "      <th>Age</th>\n",
       "      <th>SibSp</th>\n",
       "      <th>Parch</th>\n",
       "      <th>Ticket</th>\n",
       "      <th>Fare</th>\n",
       "      <th>Sex_female</th>\n",
       "      <th>Cabin_Letter_A</th>\n",
       "      <th>Cabin_Letter_B</th>\n",
       "      <th>...</th>\n",
       "      <th>Title_Officer</th>\n",
       "      <th>Title_Royalty</th>\n",
       "      <th>Fare_bin_1_Quartile</th>\n",
       "      <th>Fare_bin_2_Quartile</th>\n",
       "      <th>Fare_bin_3_Quartile</th>\n",
       "      <th>Fare_bin_4_Quartile</th>\n",
       "      <th>FamilySize</th>\n",
       "      <th>Family_bin_1_Singleton(1Person)</th>\n",
       "      <th>Family_bin_2_SmallFamily(2-4People)</th>\n",
       "      <th>Family_bin_3_LargeFamily(5-12People)</th>\n",
       "    </tr>\n",
       "    <tr>\n",
       "      <th>Embarked</th>\n",
       "      <th></th>\n",
       "      <th></th>\n",
       "      <th></th>\n",
       "      <th></th>\n",
       "      <th></th>\n",
       "      <th></th>\n",
       "      <th></th>\n",
       "      <th></th>\n",
       "      <th></th>\n",
       "      <th></th>\n",
       "      <th></th>\n",
       "      <th></th>\n",
       "      <th></th>\n",
       "      <th></th>\n",
       "      <th></th>\n",
       "      <th></th>\n",
       "      <th></th>\n",
       "      <th></th>\n",
       "      <th></th>\n",
       "      <th></th>\n",
       "      <th></th>\n",
       "    </tr>\n",
       "  </thead>\n",
       "  <tbody>\n",
       "    <tr>\n",
       "      <th>C</th>\n",
       "      <td>5</td>\n",
       "      <td>5</td>\n",
       "      <td>5</td>\n",
       "      <td>5</td>\n",
       "      <td>5</td>\n",
       "      <td>5</td>\n",
       "      <td>5</td>\n",
       "      <td>5</td>\n",
       "      <td>5</td>\n",
       "      <td>5</td>\n",
       "      <td>...</td>\n",
       "      <td>5</td>\n",
       "      <td>5</td>\n",
       "      <td>5</td>\n",
       "      <td>5</td>\n",
       "      <td>5</td>\n",
       "      <td>5</td>\n",
       "      <td>5</td>\n",
       "      <td>5</td>\n",
       "      <td>5</td>\n",
       "      <td>5</td>\n",
       "    </tr>\n",
       "    <tr>\n",
       "      <th>S</th>\n",
       "      <td>1</td>\n",
       "      <td>1</td>\n",
       "      <td>1</td>\n",
       "      <td>1</td>\n",
       "      <td>1</td>\n",
       "      <td>1</td>\n",
       "      <td>1</td>\n",
       "      <td>1</td>\n",
       "      <td>1</td>\n",
       "      <td>1</td>\n",
       "      <td>...</td>\n",
       "      <td>1</td>\n",
       "      <td>1</td>\n",
       "      <td>1</td>\n",
       "      <td>1</td>\n",
       "      <td>1</td>\n",
       "      <td>1</td>\n",
       "      <td>1</td>\n",
       "      <td>1</td>\n",
       "      <td>1</td>\n",
       "      <td>1</td>\n",
       "    </tr>\n",
       "  </tbody>\n",
       "</table>\n",
       "<p>2 rows × 31 columns</p>\n",
       "</div>"
      ],
      "text/plain": [
       "          PassengerId  Pclass  Age  SibSp  Parch  Ticket  Fare  Sex_female  \\\n",
       "Embarked                                                                     \n",
       "C                   5       5    5      5      5       5     5           5   \n",
       "S                   1       1    1      1      1       1     1           1   \n",
       "\n",
       "          Cabin_Letter_A  Cabin_Letter_B  \\\n",
       "Embarked                                   \n",
       "C                      5               5   \n",
       "S                      1               1   \n",
       "\n",
       "                          ...                   Title_Officer  Title_Royalty  \\\n",
       "Embarked                  ...                                                  \n",
       "C                         ...                               5              5   \n",
       "S                         ...                               1              1   \n",
       "\n",
       "          Fare_bin_1_Quartile  Fare_bin_2_Quartile  Fare_bin_3_Quartile  \\\n",
       "Embarked                                                                  \n",
       "C                           5                    5                    5   \n",
       "S                           1                    1                    1   \n",
       "\n",
       "          Fare_bin_4_Quartile  FamilySize  Family_bin_1_Singleton(1Person)  \\\n",
       "Embarked                                                                     \n",
       "C                           5           5                                5   \n",
       "S                           1           1                                1   \n",
       "\n",
       "          Family_bin_2_SmallFamily(2-4People)  \\\n",
       "Embarked                                        \n",
       "C                                           5   \n",
       "S                                           1   \n",
       "\n",
       "          Family_bin_3_LargeFamily(5-12People)  \n",
       "Embarked                                        \n",
       "C                                            5  \n",
       "S                                            1  \n",
       "\n",
       "[2 rows x 31 columns]"
      ]
     },
     "execution_count": 86,
     "metadata": {},
     "output_type": "execute_result"
    }
   ],
   "source": [
    "df_predict_embark[(df_predict_embark[\"Age\"] > 35)& (df_predict_embark[\"Age\"] < 40) ].groupby([\"Embarked\"]).count()"
   ]
  },
  {
   "cell_type": "markdown",
   "metadata": {},
   "source": [
    "For Miss Icard is more likely to be from Cherbourg."
   ]
  },
  {
   "cell_type": "code",
   "execution_count": 87,
   "metadata": {
    "collapsed": true
   },
   "outputs": [],
   "source": [
    "combined_df.loc[(combined_df[\"Embarked\"].isnull()) & (combined_df[\"Age\"] == 38), \"Embarked\"] = 'S'"
   ]
  },
  {
   "cell_type": "markdown",
   "metadata": {},
   "source": [
    "Now I will analyse those with similar age to Mrs Stone."
   ]
  },
  {
   "cell_type": "code",
   "execution_count": 88,
   "metadata": {},
   "outputs": [
    {
     "data": {
      "text/html": [
       "<div>\n",
       "<style>\n",
       "    .dataframe thead tr:only-child th {\n",
       "        text-align: right;\n",
       "    }\n",
       "\n",
       "    .dataframe thead th {\n",
       "        text-align: left;\n",
       "    }\n",
       "\n",
       "    .dataframe tbody tr th {\n",
       "        vertical-align: top;\n",
       "    }\n",
       "</style>\n",
       "<table border=\"1\" class=\"dataframe\">\n",
       "  <thead>\n",
       "    <tr style=\"text-align: right;\">\n",
       "      <th></th>\n",
       "      <th>PassengerId</th>\n",
       "      <th>Pclass</th>\n",
       "      <th>Age</th>\n",
       "      <th>SibSp</th>\n",
       "      <th>Parch</th>\n",
       "      <th>Ticket</th>\n",
       "      <th>Fare</th>\n",
       "      <th>Sex_female</th>\n",
       "      <th>Cabin_Letter_A</th>\n",
       "      <th>Cabin_Letter_B</th>\n",
       "      <th>...</th>\n",
       "      <th>Title_Officer</th>\n",
       "      <th>Title_Royalty</th>\n",
       "      <th>Fare_bin_1_Quartile</th>\n",
       "      <th>Fare_bin_2_Quartile</th>\n",
       "      <th>Fare_bin_3_Quartile</th>\n",
       "      <th>Fare_bin_4_Quartile</th>\n",
       "      <th>FamilySize</th>\n",
       "      <th>Family_bin_1_Singleton(1Person)</th>\n",
       "      <th>Family_bin_2_SmallFamily(2-4People)</th>\n",
       "      <th>Family_bin_3_LargeFamily(5-12People)</th>\n",
       "    </tr>\n",
       "    <tr>\n",
       "      <th>Embarked</th>\n",
       "      <th></th>\n",
       "      <th></th>\n",
       "      <th></th>\n",
       "      <th></th>\n",
       "      <th></th>\n",
       "      <th></th>\n",
       "      <th></th>\n",
       "      <th></th>\n",
       "      <th></th>\n",
       "      <th></th>\n",
       "      <th></th>\n",
       "      <th></th>\n",
       "      <th></th>\n",
       "      <th></th>\n",
       "      <th></th>\n",
       "      <th></th>\n",
       "      <th></th>\n",
       "      <th></th>\n",
       "      <th></th>\n",
       "      <th></th>\n",
       "      <th></th>\n",
       "    </tr>\n",
       "  </thead>\n",
       "  <tbody>\n",
       "    <tr>\n",
       "      <th>C</th>\n",
       "      <td>2</td>\n",
       "      <td>2</td>\n",
       "      <td>2</td>\n",
       "      <td>2</td>\n",
       "      <td>2</td>\n",
       "      <td>2</td>\n",
       "      <td>2</td>\n",
       "      <td>2</td>\n",
       "      <td>2</td>\n",
       "      <td>2</td>\n",
       "      <td>...</td>\n",
       "      <td>2</td>\n",
       "      <td>2</td>\n",
       "      <td>2</td>\n",
       "      <td>2</td>\n",
       "      <td>2</td>\n",
       "      <td>2</td>\n",
       "      <td>2</td>\n",
       "      <td>2</td>\n",
       "      <td>2</td>\n",
       "      <td>2</td>\n",
       "    </tr>\n",
       "  </tbody>\n",
       "</table>\n",
       "<p>1 rows × 31 columns</p>\n",
       "</div>"
      ],
      "text/plain": [
       "          PassengerId  Pclass  Age  SibSp  Parch  Ticket  Fare  Sex_female  \\\n",
       "Embarked                                                                     \n",
       "C                   2       2    2      2      2       2     2           2   \n",
       "\n",
       "          Cabin_Letter_A  Cabin_Letter_B  \\\n",
       "Embarked                                   \n",
       "C                      2               2   \n",
       "\n",
       "                          ...                   Title_Officer  Title_Royalty  \\\n",
       "Embarked                  ...                                                  \n",
       "C                         ...                               2              2   \n",
       "\n",
       "          Fare_bin_1_Quartile  Fare_bin_2_Quartile  Fare_bin_3_Quartile  \\\n",
       "Embarked                                                                  \n",
       "C                           2                    2                    2   \n",
       "\n",
       "          Fare_bin_4_Quartile  FamilySize  Family_bin_1_Singleton(1Person)  \\\n",
       "Embarked                                                                     \n",
       "C                           2           2                                2   \n",
       "\n",
       "          Family_bin_2_SmallFamily(2-4People)  \\\n",
       "Embarked                                        \n",
       "C                                           2   \n",
       "\n",
       "          Family_bin_3_LargeFamily(5-12People)  \n",
       "Embarked                                        \n",
       "C                                            2  \n",
       "\n",
       "[1 rows x 31 columns]"
      ]
     },
     "execution_count": 88,
     "metadata": {},
     "output_type": "execute_result"
    }
   ],
   "source": [
    "df_predict_embark[df_predict_embark[\"Age\"] > 55].groupby([\"Embarked\"]).count()"
   ]
  },
  {
   "cell_type": "markdown",
   "metadata": {},
   "source": [
    "For those with age similar to Mrs Stone, they embarked in Cherbourg (C). So I assign the C to where Mrs Stone embarked."
   ]
  },
  {
   "cell_type": "code",
   "execution_count": 89,
   "metadata": {
    "collapsed": true
   },
   "outputs": [],
   "source": [
    "combined_df.loc[(combined_df[\"Embarked\"].isnull()) & (combined_df[\"Age\"] == 60), \"Embarked\"] = 'C'"
   ]
  },
  {
   "cell_type": "markdown",
   "metadata": {},
   "source": [
    "Dummy encoding embarked"
   ]
  },
  {
   "cell_type": "code",
   "execution_count": 90,
   "metadata": {
    "collapsed": true
   },
   "outputs": [],
   "source": [
    "combined_df = encoding_feature(combined_df,'Embarked')"
   ]
  },
  {
   "cell_type": "markdown",
   "metadata": {},
   "source": [
    "###  Age\n",
    "\n",
    "For the missing age I will try to fiil it using a random florest regressor.\n",
    "The list of features that we will need to perform our prediction on the missing ages. I will use the features: Fare, Parch,SibSp, Pclass, Titles, Embarked."
   ]
  },
  {
   "cell_type": "code",
   "execution_count": 91,
   "metadata": {
    "collapsed": true
   },
   "outputs": [],
   "source": [
    "feature_list = [\"Age\",\"Fare\",\"Sex_female\",\n",
    "                \"Parch\",\"SibSp\",\"Pclass\",\"Title_Mr\",\"Title_Mrs\",\"Title_Miss\",\"Title_Master\",\"Embarked_S\",\"Embarked_Q\",\"Embarked_C\"]\n"
   ]
  },
  {
   "cell_type": "markdown",
   "metadata": {},
   "source": [
    "We will need to separate our rows that are missing Age."
   ]
  },
  {
   "cell_type": "code",
   "execution_count": 92,
   "metadata": {
    "collapsed": true
   },
   "outputs": [],
   "source": [
    "ageNa_df = combined_df[combined_df[\"Age\"].isnull()][feature_list]\n",
    "ageDropNa_df = combined_df[combined_df[\"Age\"].notnull()][feature_list]"
   ]
  },
  {
   "cell_type": "markdown",
   "metadata": {},
   "source": [
    "Prepare our data dividing the dataset into labels and features."
   ]
  },
  {
   "cell_type": "code",
   "execution_count": 93,
   "metadata": {
    "collapsed": true
   },
   "outputs": [],
   "source": [
    "y = ageDropNa_df[\"Age\"]\n",
    "X = ageDropNa_df[feature_list[1:]]\n",
    "\n",
    "y_predict_test = ageNa_df[\"Age\"]\n",
    "X_predict_test = ageNa_df[feature_list[1:]]\n"
   ]
  },
  {
   "cell_type": "markdown",
   "metadata": {},
   "source": [
    "Prepare our data dividing the dataset into test and train."
   ]
  },
  {
   "cell_type": "code",
   "execution_count": 94,
   "metadata": {},
   "outputs": [
    {
     "data": {
      "text/plain": [
       "RandomForestRegressor(bootstrap=True, criterion='mse', max_depth=None,\n",
       "           max_features='auto', max_leaf_nodes=None,\n",
       "           min_impurity_split=1e-07, min_samples_leaf=1,\n",
       "           min_samples_split=2, min_weight_fraction_leaf=0.0,\n",
       "           n_estimators=2000, n_jobs=-1, oob_score=False,\n",
       "           random_state=None, verbose=0, warm_start=False)"
      ]
     },
     "execution_count": 94,
     "metadata": {},
     "output_type": "execute_result"
    }
   ],
   "source": [
    "# from sklearn.linear_model import LinearRegression\n",
    "# regr = LinearRegression()\n",
    "from sklearn.ensemble import RandomForestRegressor\n",
    "regr =  RandomForestRegressor(n_estimators=2000, n_jobs=-1)\n",
    "regr.fit(X,y)"
   ]
  },
  {
   "cell_type": "code",
   "execution_count": 95,
   "metadata": {
    "collapsed": true
   },
   "outputs": [],
   "source": [
    "regression_predicted = regr.predict(X_predict_test);"
   ]
  },
  {
   "cell_type": "markdown",
   "metadata": {},
   "source": [
    "Predicted Values in regression_predicted"
   ]
  },
  {
   "cell_type": "code",
   "execution_count": 96,
   "metadata": {
    "collapsed": true
   },
   "outputs": [],
   "source": [
    "ageNa_df[\"Age\"] = regression_predicted\n",
    "combined_df.loc[combined_df[\"Age\"].isnull(),\"Age\"] = regression_predicted\n"
   ]
  },
  {
   "cell_type": "markdown",
   "metadata": {},
   "source": [
    "Updating Values into dataset!!"
   ]
  },
  {
   "cell_type": "code",
   "execution_count": 97,
   "metadata": {},
   "outputs": [
    {
     "data": {
      "text/plain": [
       "(3.7347061111111097, 53.210805952380937)"
      ]
     },
     "execution_count": 97,
     "metadata": {},
     "output_type": "execute_result"
    }
   ],
   "source": [
    "regression_predicted.min(),regression_predicted.max()"
   ]
  },
  {
   "cell_type": "markdown",
   "metadata": {},
   "source": [
    "We got a positive range going from 3.75 to 53.61."
   ]
  },
  {
   "cell_type": "code",
   "execution_count": 98,
   "metadata": {},
   "outputs": [
    {
     "data": {
      "text/html": [
       "<div>\n",
       "<style>\n",
       "    .dataframe thead tr:only-child th {\n",
       "        text-align: right;\n",
       "    }\n",
       "\n",
       "    .dataframe thead th {\n",
       "        text-align: left;\n",
       "    }\n",
       "\n",
       "    .dataframe tbody tr th {\n",
       "        vertical-align: top;\n",
       "    }\n",
       "</style>\n",
       "<table border=\"1\" class=\"dataframe\">\n",
       "  <thead>\n",
       "    <tr style=\"text-align: right;\">\n",
       "      <th></th>\n",
       "      <th>PassengerId</th>\n",
       "      <th>Pclass</th>\n",
       "      <th>Age</th>\n",
       "      <th>SibSp</th>\n",
       "      <th>Parch</th>\n",
       "      <th>Ticket</th>\n",
       "      <th>Fare</th>\n",
       "      <th>Sex_female</th>\n",
       "      <th>Cabin_Letter_A</th>\n",
       "      <th>Cabin_Letter_B</th>\n",
       "      <th>...</th>\n",
       "      <th>Fare_bin_2_Quartile</th>\n",
       "      <th>Fare_bin_3_Quartile</th>\n",
       "      <th>Fare_bin_4_Quartile</th>\n",
       "      <th>FamilySize</th>\n",
       "      <th>Family_bin_1_Singleton(1Person)</th>\n",
       "      <th>Family_bin_2_SmallFamily(2-4People)</th>\n",
       "      <th>Family_bin_3_LargeFamily(5-12People)</th>\n",
       "      <th>Embarked_C</th>\n",
       "      <th>Embarked_Q</th>\n",
       "      <th>Embarked_S</th>\n",
       "    </tr>\n",
       "  </thead>\n",
       "  <tbody>\n",
       "    <tr>\n",
       "      <th>5</th>\n",
       "      <td>6</td>\n",
       "      <td>3</td>\n",
       "      <td>28.035044</td>\n",
       "      <td>0</td>\n",
       "      <td>0</td>\n",
       "      <td>330877</td>\n",
       "      <td>8.4583</td>\n",
       "      <td>0</td>\n",
       "      <td>0</td>\n",
       "      <td>0</td>\n",
       "      <td>...</td>\n",
       "      <td>1</td>\n",
       "      <td>0</td>\n",
       "      <td>0</td>\n",
       "      <td>1</td>\n",
       "      <td>1</td>\n",
       "      <td>0</td>\n",
       "      <td>0</td>\n",
       "      <td>0</td>\n",
       "      <td>1</td>\n",
       "      <td>0</td>\n",
       "    </tr>\n",
       "  </tbody>\n",
       "</table>\n",
       "<p>1 rows × 34 columns</p>\n",
       "</div>"
      ],
      "text/plain": [
       "   PassengerId  Pclass        Age  SibSp  Parch  Ticket    Fare  Sex_female  \\\n",
       "5            6       3  28.035044      0      0  330877  8.4583           0   \n",
       "\n",
       "   Cabin_Letter_A  Cabin_Letter_B     ...      Fare_bin_2_Quartile  \\\n",
       "5               0               0     ...                        1   \n",
       "\n",
       "   Fare_bin_3_Quartile  Fare_bin_4_Quartile  FamilySize  \\\n",
       "5                    0                    0           1   \n",
       "\n",
       "   Family_bin_1_Singleton(1Person)  Family_bin_2_SmallFamily(2-4People)  \\\n",
       "5                                1                                    0   \n",
       "\n",
       "   Family_bin_3_LargeFamily(5-12People)  Embarked_C  Embarked_Q  Embarked_S  \n",
       "5                                     0           0           1           0  \n",
       "\n",
       "[1 rows x 34 columns]"
      ]
     },
     "execution_count": 98,
     "metadata": {},
     "output_type": "execute_result"
    }
   ],
   "source": [
    "combined_df.loc[combined_df[\"Fare\"] == 8.4583]"
   ]
  },
  {
   "cell_type": "markdown",
   "metadata": {},
   "source": [
    "Now we will need to update the age_bin in our combined_df"
   ]
  },
  {
   "cell_type": "code",
   "execution_count": 99,
   "metadata": {
    "collapsed": true
   },
   "outputs": [],
   "source": [
    "combined_df = create_age_bins(combined_df)"
   ]
  },
  {
   "cell_type": "markdown",
   "metadata": {},
   "source": [
    "Encoding  feature"
   ]
  },
  {
   "cell_type": "code",
   "execution_count": 100,
   "metadata": {
    "collapsed": true
   },
   "outputs": [],
   "source": [
    "combined_df = encoding_feature(combined_df,'Age_bin')"
   ]
  },
  {
   "cell_type": "markdown",
   "metadata": {},
   "source": [
    "Let's check for missing data. "
   ]
  },
  {
   "cell_type": "code",
   "execution_count": 101,
   "metadata": {},
   "outputs": [
    {
     "name": "stdout",
     "output_type": "stream",
     "text": [
      "Missing values by field:\n",
      "\n",
      "PassengerId                             0\n",
      "Pclass                                  0\n",
      "Age                                     0\n",
      "SibSp                                   0\n",
      "Parch                                   0\n",
      "Ticket                                  0\n",
      "Fare                                    0\n",
      "Sex_female                              0\n",
      "Cabin_Letter_A                          0\n",
      "Cabin_Letter_B                          0\n",
      "Cabin_Letter_C                          0\n",
      "Cabin_Letter_D                          0\n",
      "Cabin_Letter_E                          0\n",
      "Cabin_Letter_F                          0\n",
      "Cabin_Letter_G                          0\n",
      "Cabin_Letter_T                          0\n",
      "Cabin_Letter_U                          0\n",
      "Title_Master                            0\n",
      "Title_Miss                              0\n",
      "Title_Mr                                0\n",
      "Title_Mrs                               0\n",
      "Title_Officer                           0\n",
      "Title_Royalty                           0\n",
      "Fare_bin_1_Quartile                     0\n",
      "Fare_bin_2_Quartile                     0\n",
      "Fare_bin_3_Quartile                     0\n",
      "Fare_bin_4_Quartile                     0\n",
      "FamilySize                              0\n",
      "Family_bin_1_Singleton(1Person)         0\n",
      "Family_bin_2_SmallFamily(2-4People)     0\n",
      "Family_bin_3_LargeFamily(5-12People)    0\n",
      "Embarked_C                              0\n",
      "Embarked_Q                              0\n",
      "Embarked_S                              0\n",
      "Age_bin_1Children(0-12)                 0\n",
      "Age_bin_2Teen(13-20)                    0\n",
      "Age_bin_3YngAdult(21-28)                0\n",
      "Age_bin_4Adult(29-40)                   0\n",
      "Age_bin_5OldAdult(41-57)                0\n",
      "Age_bin_6Senior(58-82)                  0\n",
      "dtype: int64\n"
     ]
    }
   ],
   "source": [
    "print_missing_data(combined_df)"
   ]
  },
  {
   "cell_type": "markdown",
   "metadata": {},
   "source": [
    "We filled all our missing points!!"
   ]
  },
  {
   "cell_type": "markdown",
   "metadata": {},
   "source": [
    "### Pclass"
   ]
  },
  {
   "cell_type": "code",
   "execution_count": 102,
   "metadata": {
    "collapsed": true
   },
   "outputs": [],
   "source": [
    "combined_df = encoding_feature(combined_df,'Pclass')"
   ]
  },
  {
   "cell_type": "markdown",
   "metadata": {},
   "source": [
    "### PassengerId"
   ]
  },
  {
   "cell_type": "code",
   "execution_count": 103,
   "metadata": {
    "collapsed": true
   },
   "outputs": [],
   "source": [
    "combined_df.drop(\"PassengerId\",axis=1,inplace=True)"
   ]
  },
  {
   "cell_type": "markdown",
   "metadata": {},
   "source": [
    "### Ticket"
   ]
  },
  {
   "cell_type": "code",
   "execution_count": 104,
   "metadata": {
    "collapsed": true
   },
   "outputs": [],
   "source": [
    "combined_df['Ticket'] = combined_df['Ticket'].map(prefix_ticket)"
   ]
  },
  {
   "cell_type": "code",
   "execution_count": 105,
   "metadata": {
    "collapsed": true
   },
   "outputs": [],
   "source": [
    "combined_df = encoding_feature(combined_df,'Ticket')"
   ]
  },
  {
   "cell_type": "markdown",
   "metadata": {},
   "source": [
    "### Encoding values bins"
   ]
  },
  {
   "cell_type": "markdown",
   "metadata": {},
   "source": [
    "## 3.2 Features Selection\n",
    "\n",
    "We will select the field that are more important to our tests"
   ]
  },
  {
   "cell_type": "code",
   "execution_count": 106,
   "metadata": {},
   "outputs": [
    {
     "name": "stdout",
     "output_type": "stream",
     "text": [
      "(1309, 77)\n"
     ]
    }
   ],
   "source": [
    "print(combined_df.shape)"
   ]
  },
  {
   "cell_type": "code",
   "execution_count": 107,
   "metadata": {},
   "outputs": [
    {
     "data": {
      "text/plain": [
       "array(['Age', 'SibSp', 'Parch', 'Fare', 'Sex_female', 'Cabin_Letter_A',\n",
       "       'Cabin_Letter_B', 'Cabin_Letter_C', 'Cabin_Letter_D',\n",
       "       'Cabin_Letter_E', 'Cabin_Letter_F', 'Cabin_Letter_G',\n",
       "       'Cabin_Letter_T', 'Cabin_Letter_U', 'Title_Master', 'Title_Miss',\n",
       "       'Title_Mr', 'Title_Mrs', 'Title_Officer', 'Title_Royalty',\n",
       "       'Fare_bin_1_Quartile', 'Fare_bin_2_Quartile', 'Fare_bin_3_Quartile',\n",
       "       'Fare_bin_4_Quartile', 'FamilySize',\n",
       "       'Family_bin_1_Singleton(1Person)',\n",
       "       'Family_bin_2_SmallFamily(2-4People)',\n",
       "       'Family_bin_3_LargeFamily(5-12People)', 'Embarked_C', 'Embarked_Q',\n",
       "       'Embarked_S', 'Age_bin_1Children(0-12)', 'Age_bin_2Teen(13-20)',\n",
       "       'Age_bin_3YngAdult(21-28)', 'Age_bin_4Adult(29-40)',\n",
       "       'Age_bin_5OldAdult(41-57)', 'Age_bin_6Senior(58-82)', 'Pclass_1',\n",
       "       'Pclass_2', 'Pclass_3', 'Ticket_A', 'Ticket_A4', 'Ticket_A5',\n",
       "       'Ticket_AQ3', 'Ticket_AQ4', 'Ticket_AS', 'Ticket_C', 'Ticket_CA',\n",
       "       'Ticket_CASOTON', 'Ticket_DIGIT', 'Ticket_FC', 'Ticket_FCC',\n",
       "       'Ticket_Fa', 'Ticket_LINE', 'Ticket_LP', 'Ticket_PC', 'Ticket_PP',\n",
       "       'Ticket_PPP', 'Ticket_SC', 'Ticket_SCA3', 'Ticket_SCA4',\n",
       "       'Ticket_SCAH', 'Ticket_SCOW', 'Ticket_SCPARIS', 'Ticket_SCParis',\n",
       "       'Ticket_SOC', 'Ticket_SOP', 'Ticket_SOPP', 'Ticket_SOTONO2',\n",
       "       'Ticket_SOTONOQ', 'Ticket_SP', 'Ticket_STONO', 'Ticket_STONO2',\n",
       "       'Ticket_STONOQ', 'Ticket_SWPP', 'Ticket_WC', 'Ticket_WEP'], dtype=object)"
      ]
     },
     "execution_count": 107,
     "metadata": {},
     "output_type": "execute_result"
    }
   ],
   "source": [
    "combined_df.columns.values"
   ]
  },
  {
   "cell_type": "code",
   "execution_count": 108,
   "metadata": {},
   "outputs": [
    {
     "data": {
      "text/html": [
       "<table border=\"1\" class=\"dataframe\">\n",
       "  <thead>\n",
       "    <tr style=\"text-align: right;\">\n",
       "      <th></th>\n",
       "      <th>Age</th>\n",
       "      <th>SibSp</th>\n",
       "      <th>Parch</th>\n",
       "      <th>Fare</th>\n",
       "      <th>Sex_female</th>\n",
       "      <th>Cabin_Letter_A</th>\n",
       "      <th>Cabin_Letter_B</th>\n",
       "      <th>Cabin_Letter_C</th>\n",
       "      <th>Cabin_Letter_D</th>\n",
       "      <th>Cabin_Letter_E</th>\n",
       "      <th>Cabin_Letter_F</th>\n",
       "      <th>Cabin_Letter_G</th>\n",
       "      <th>Cabin_Letter_T</th>\n",
       "      <th>Cabin_Letter_U</th>\n",
       "      <th>Title_Master</th>\n",
       "      <th>Title_Miss</th>\n",
       "      <th>Title_Mr</th>\n",
       "      <th>Title_Mrs</th>\n",
       "      <th>Title_Officer</th>\n",
       "      <th>Title_Royalty</th>\n",
       "      <th>Fare_bin_1_Quartile</th>\n",
       "      <th>Fare_bin_2_Quartile</th>\n",
       "      <th>Fare_bin_3_Quartile</th>\n",
       "      <th>Fare_bin_4_Quartile</th>\n",
       "      <th>FamilySize</th>\n",
       "      <th>Family_bin_1_Singleton(1Person)</th>\n",
       "      <th>Family_bin_2_SmallFamily(2-4People)</th>\n",
       "      <th>Family_bin_3_LargeFamily(5-12People)</th>\n",
       "      <th>Embarked_C</th>\n",
       "      <th>Embarked_Q</th>\n",
       "      <th>Embarked_S</th>\n",
       "      <th>Age_bin_1Children(0-12)</th>\n",
       "      <th>Age_bin_2Teen(13-20)</th>\n",
       "      <th>Age_bin_3YngAdult(21-28)</th>\n",
       "      <th>Age_bin_4Adult(29-40)</th>\n",
       "      <th>Age_bin_5OldAdult(41-57)</th>\n",
       "      <th>Age_bin_6Senior(58-82)</th>\n",
       "      <th>Pclass_1</th>\n",
       "      <th>Pclass_2</th>\n",
       "      <th>Pclass_3</th>\n",
       "      <th>Ticket_A</th>\n",
       "      <th>Ticket_A4</th>\n",
       "      <th>Ticket_A5</th>\n",
       "      <th>Ticket_AQ3</th>\n",
       "      <th>Ticket_AQ4</th>\n",
       "      <th>Ticket_AS</th>\n",
       "      <th>Ticket_C</th>\n",
       "      <th>Ticket_CA</th>\n",
       "      <th>Ticket_CASOTON</th>\n",
       "      <th>Ticket_DIGIT</th>\n",
       "      <th>Ticket_FC</th>\n",
       "      <th>Ticket_FCC</th>\n",
       "      <th>Ticket_Fa</th>\n",
       "      <th>Ticket_LINE</th>\n",
       "      <th>Ticket_LP</th>\n",
       "      <th>Ticket_PC</th>\n",
       "      <th>Ticket_PP</th>\n",
       "      <th>Ticket_PPP</th>\n",
       "      <th>Ticket_SC</th>\n",
       "      <th>Ticket_SCA3</th>\n",
       "      <th>Ticket_SCA4</th>\n",
       "      <th>Ticket_SCAH</th>\n",
       "      <th>Ticket_SCOW</th>\n",
       "      <th>Ticket_SCPARIS</th>\n",
       "      <th>Ticket_SCParis</th>\n",
       "      <th>Ticket_SOC</th>\n",
       "      <th>Ticket_SOP</th>\n",
       "      <th>Ticket_SOPP</th>\n",
       "      <th>Ticket_SOTONO2</th>\n",
       "      <th>Ticket_SOTONOQ</th>\n",
       "      <th>Ticket_SP</th>\n",
       "      <th>Ticket_STONO</th>\n",
       "      <th>Ticket_STONO2</th>\n",
       "      <th>Ticket_STONOQ</th>\n",
       "      <th>Ticket_SWPP</th>\n",
       "      <th>Ticket_WC</th>\n",
       "      <th>Ticket_WEP</th>\n",
       "    </tr>\n",
       "  </thead>\n",
       "  <tbody>\n",
       "    <tr>\n",
       "      <th>0</th>\n",
       "      <td>22.000000</td>\n",
       "      <td>1</td>\n",
       "      <td>0</td>\n",
       "      <td>7.2500</td>\n",
       "      <td>0</td>\n",
       "      <td>0</td>\n",
       "      <td>0</td>\n",
       "      <td>0</td>\n",
       "      <td>0</td>\n",
       "      <td>0</td>\n",
       "      <td>0</td>\n",
       "      <td>0</td>\n",
       "      <td>0</td>\n",
       "      <td>1</td>\n",
       "      <td>0</td>\n",
       "      <td>0</td>\n",
       "      <td>1</td>\n",
       "      <td>0</td>\n",
       "      <td>0</td>\n",
       "      <td>0</td>\n",
       "      <td>1</td>\n",
       "      <td>0</td>\n",
       "      <td>0</td>\n",
       "      <td>0</td>\n",
       "      <td>2</td>\n",
       "      <td>0</td>\n",
       "      <td>1</td>\n",
       "      <td>0</td>\n",
       "      <td>0</td>\n",
       "      <td>0</td>\n",
       "      <td>1</td>\n",
       "      <td>0</td>\n",
       "      <td>0</td>\n",
       "      <td>1</td>\n",
       "      <td>0</td>\n",
       "      <td>0</td>\n",
       "      <td>0</td>\n",
       "      <td>0</td>\n",
       "      <td>0</td>\n",
       "      <td>1</td>\n",
       "      <td>0</td>\n",
       "      <td>0</td>\n",
       "      <td>1</td>\n",
       "      <td>0</td>\n",
       "      <td>0</td>\n",
       "      <td>0</td>\n",
       "      <td>0</td>\n",
       "      <td>0</td>\n",
       "      <td>0</td>\n",
       "      <td>0</td>\n",
       "      <td>0</td>\n",
       "      <td>0</td>\n",
       "      <td>0</td>\n",
       "      <td>0</td>\n",
       "      <td>0</td>\n",
       "      <td>0</td>\n",
       "      <td>0</td>\n",
       "      <td>0</td>\n",
       "      <td>0</td>\n",
       "      <td>0</td>\n",
       "      <td>0</td>\n",
       "      <td>0</td>\n",
       "      <td>0</td>\n",
       "      <td>0</td>\n",
       "      <td>0</td>\n",
       "      <td>0</td>\n",
       "      <td>0</td>\n",
       "      <td>0</td>\n",
       "      <td>0</td>\n",
       "      <td>0</td>\n",
       "      <td>0</td>\n",
       "      <td>0</td>\n",
       "      <td>0</td>\n",
       "      <td>0</td>\n",
       "      <td>0</td>\n",
       "      <td>0</td>\n",
       "      <td>0</td>\n",
       "    </tr>\n",
       "    <tr>\n",
       "      <th>1</th>\n",
       "      <td>38.000000</td>\n",
       "      <td>1</td>\n",
       "      <td>0</td>\n",
       "      <td>71.2833</td>\n",
       "      <td>1</td>\n",
       "      <td>0</td>\n",
       "      <td>0</td>\n",
       "      <td>1</td>\n",
       "      <td>0</td>\n",
       "      <td>0</td>\n",
       "      <td>0</td>\n",
       "      <td>0</td>\n",
       "      <td>0</td>\n",
       "      <td>0</td>\n",
       "      <td>0</td>\n",
       "      <td>0</td>\n",
       "      <td>0</td>\n",
       "      <td>1</td>\n",
       "      <td>0</td>\n",
       "      <td>0</td>\n",
       "      <td>0</td>\n",
       "      <td>0</td>\n",
       "      <td>0</td>\n",
       "      <td>1</td>\n",
       "      <td>2</td>\n",
       "      <td>0</td>\n",
       "      <td>1</td>\n",
       "      <td>0</td>\n",
       "      <td>1</td>\n",
       "      <td>0</td>\n",
       "      <td>0</td>\n",
       "      <td>0</td>\n",
       "      <td>0</td>\n",
       "      <td>0</td>\n",
       "      <td>1</td>\n",
       "      <td>0</td>\n",
       "      <td>0</td>\n",
       "      <td>1</td>\n",
       "      <td>0</td>\n",
       "      <td>0</td>\n",
       "      <td>0</td>\n",
       "      <td>0</td>\n",
       "      <td>0</td>\n",
       "      <td>0</td>\n",
       "      <td>0</td>\n",
       "      <td>0</td>\n",
       "      <td>0</td>\n",
       "      <td>0</td>\n",
       "      <td>0</td>\n",
       "      <td>0</td>\n",
       "      <td>0</td>\n",
       "      <td>0</td>\n",
       "      <td>0</td>\n",
       "      <td>0</td>\n",
       "      <td>0</td>\n",
       "      <td>1</td>\n",
       "      <td>0</td>\n",
       "      <td>0</td>\n",
       "      <td>0</td>\n",
       "      <td>0</td>\n",
       "      <td>0</td>\n",
       "      <td>0</td>\n",
       "      <td>0</td>\n",
       "      <td>0</td>\n",
       "      <td>0</td>\n",
       "      <td>0</td>\n",
       "      <td>0</td>\n",
       "      <td>0</td>\n",
       "      <td>0</td>\n",
       "      <td>0</td>\n",
       "      <td>0</td>\n",
       "      <td>0</td>\n",
       "      <td>0</td>\n",
       "      <td>0</td>\n",
       "      <td>0</td>\n",
       "      <td>0</td>\n",
       "      <td>0</td>\n",
       "    </tr>\n",
       "    <tr>\n",
       "      <th>2</th>\n",
       "      <td>26.000000</td>\n",
       "      <td>0</td>\n",
       "      <td>0</td>\n",
       "      <td>7.9250</td>\n",
       "      <td>1</td>\n",
       "      <td>0</td>\n",
       "      <td>0</td>\n",
       "      <td>0</td>\n",
       "      <td>0</td>\n",
       "      <td>0</td>\n",
       "      <td>0</td>\n",
       "      <td>0</td>\n",
       "      <td>0</td>\n",
       "      <td>1</td>\n",
       "      <td>0</td>\n",
       "      <td>1</td>\n",
       "      <td>0</td>\n",
       "      <td>0</td>\n",
       "      <td>0</td>\n",
       "      <td>0</td>\n",
       "      <td>1</td>\n",
       "      <td>0</td>\n",
       "      <td>0</td>\n",
       "      <td>0</td>\n",
       "      <td>1</td>\n",
       "      <td>1</td>\n",
       "      <td>0</td>\n",
       "      <td>0</td>\n",
       "      <td>0</td>\n",
       "      <td>0</td>\n",
       "      <td>1</td>\n",
       "      <td>0</td>\n",
       "      <td>0</td>\n",
       "      <td>1</td>\n",
       "      <td>0</td>\n",
       "      <td>0</td>\n",
       "      <td>0</td>\n",
       "      <td>0</td>\n",
       "      <td>0</td>\n",
       "      <td>1</td>\n",
       "      <td>0</td>\n",
       "      <td>0</td>\n",
       "      <td>0</td>\n",
       "      <td>0</td>\n",
       "      <td>0</td>\n",
       "      <td>0</td>\n",
       "      <td>0</td>\n",
       "      <td>0</td>\n",
       "      <td>0</td>\n",
       "      <td>0</td>\n",
       "      <td>0</td>\n",
       "      <td>0</td>\n",
       "      <td>0</td>\n",
       "      <td>0</td>\n",
       "      <td>0</td>\n",
       "      <td>0</td>\n",
       "      <td>0</td>\n",
       "      <td>0</td>\n",
       "      <td>0</td>\n",
       "      <td>0</td>\n",
       "      <td>0</td>\n",
       "      <td>0</td>\n",
       "      <td>0</td>\n",
       "      <td>0</td>\n",
       "      <td>0</td>\n",
       "      <td>0</td>\n",
       "      <td>0</td>\n",
       "      <td>0</td>\n",
       "      <td>0</td>\n",
       "      <td>0</td>\n",
       "      <td>0</td>\n",
       "      <td>0</td>\n",
       "      <td>1</td>\n",
       "      <td>0</td>\n",
       "      <td>0</td>\n",
       "      <td>0</td>\n",
       "      <td>0</td>\n",
       "    </tr>\n",
       "    <tr>\n",
       "      <th>3</th>\n",
       "      <td>35.000000</td>\n",
       "      <td>1</td>\n",
       "      <td>0</td>\n",
       "      <td>53.1000</td>\n",
       "      <td>1</td>\n",
       "      <td>0</td>\n",
       "      <td>0</td>\n",
       "      <td>1</td>\n",
       "      <td>0</td>\n",
       "      <td>0</td>\n",
       "      <td>0</td>\n",
       "      <td>0</td>\n",
       "      <td>0</td>\n",
       "      <td>0</td>\n",
       "      <td>0</td>\n",
       "      <td>0</td>\n",
       "      <td>0</td>\n",
       "      <td>1</td>\n",
       "      <td>0</td>\n",
       "      <td>0</td>\n",
       "      <td>0</td>\n",
       "      <td>0</td>\n",
       "      <td>0</td>\n",
       "      <td>1</td>\n",
       "      <td>2</td>\n",
       "      <td>0</td>\n",
       "      <td>1</td>\n",
       "      <td>0</td>\n",
       "      <td>0</td>\n",
       "      <td>0</td>\n",
       "      <td>1</td>\n",
       "      <td>0</td>\n",
       "      <td>0</td>\n",
       "      <td>0</td>\n",
       "      <td>1</td>\n",
       "      <td>0</td>\n",
       "      <td>0</td>\n",
       "      <td>1</td>\n",
       "      <td>0</td>\n",
       "      <td>0</td>\n",
       "      <td>0</td>\n",
       "      <td>0</td>\n",
       "      <td>0</td>\n",
       "      <td>0</td>\n",
       "      <td>0</td>\n",
       "      <td>0</td>\n",
       "      <td>0</td>\n",
       "      <td>0</td>\n",
       "      <td>0</td>\n",
       "      <td>1</td>\n",
       "      <td>0</td>\n",
       "      <td>0</td>\n",
       "      <td>0</td>\n",
       "      <td>0</td>\n",
       "      <td>0</td>\n",
       "      <td>0</td>\n",
       "      <td>0</td>\n",
       "      <td>0</td>\n",
       "      <td>0</td>\n",
       "      <td>0</td>\n",
       "      <td>0</td>\n",
       "      <td>0</td>\n",
       "      <td>0</td>\n",
       "      <td>0</td>\n",
       "      <td>0</td>\n",
       "      <td>0</td>\n",
       "      <td>0</td>\n",
       "      <td>0</td>\n",
       "      <td>0</td>\n",
       "      <td>0</td>\n",
       "      <td>0</td>\n",
       "      <td>0</td>\n",
       "      <td>0</td>\n",
       "      <td>0</td>\n",
       "      <td>0</td>\n",
       "      <td>0</td>\n",
       "      <td>0</td>\n",
       "    </tr>\n",
       "    <tr>\n",
       "      <th>4</th>\n",
       "      <td>35.000000</td>\n",
       "      <td>0</td>\n",
       "      <td>0</td>\n",
       "      <td>8.0500</td>\n",
       "      <td>0</td>\n",
       "      <td>0</td>\n",
       "      <td>0</td>\n",
       "      <td>0</td>\n",
       "      <td>0</td>\n",
       "      <td>0</td>\n",
       "      <td>0</td>\n",
       "      <td>0</td>\n",
       "      <td>0</td>\n",
       "      <td>1</td>\n",
       "      <td>0</td>\n",
       "      <td>0</td>\n",
       "      <td>1</td>\n",
       "      <td>0</td>\n",
       "      <td>0</td>\n",
       "      <td>0</td>\n",
       "      <td>0</td>\n",
       "      <td>1</td>\n",
       "      <td>0</td>\n",
       "      <td>0</td>\n",
       "      <td>1</td>\n",
       "      <td>1</td>\n",
       "      <td>0</td>\n",
       "      <td>0</td>\n",
       "      <td>0</td>\n",
       "      <td>0</td>\n",
       "      <td>1</td>\n",
       "      <td>0</td>\n",
       "      <td>0</td>\n",
       "      <td>0</td>\n",
       "      <td>1</td>\n",
       "      <td>0</td>\n",
       "      <td>0</td>\n",
       "      <td>0</td>\n",
       "      <td>0</td>\n",
       "      <td>1</td>\n",
       "      <td>0</td>\n",
       "      <td>0</td>\n",
       "      <td>0</td>\n",
       "      <td>0</td>\n",
       "      <td>0</td>\n",
       "      <td>0</td>\n",
       "      <td>0</td>\n",
       "      <td>0</td>\n",
       "      <td>0</td>\n",
       "      <td>1</td>\n",
       "      <td>0</td>\n",
       "      <td>0</td>\n",
       "      <td>0</td>\n",
       "      <td>0</td>\n",
       "      <td>0</td>\n",
       "      <td>0</td>\n",
       "      <td>0</td>\n",
       "      <td>0</td>\n",
       "      <td>0</td>\n",
       "      <td>0</td>\n",
       "      <td>0</td>\n",
       "      <td>0</td>\n",
       "      <td>0</td>\n",
       "      <td>0</td>\n",
       "      <td>0</td>\n",
       "      <td>0</td>\n",
       "      <td>0</td>\n",
       "      <td>0</td>\n",
       "      <td>0</td>\n",
       "      <td>0</td>\n",
       "      <td>0</td>\n",
       "      <td>0</td>\n",
       "      <td>0</td>\n",
       "      <td>0</td>\n",
       "      <td>0</td>\n",
       "      <td>0</td>\n",
       "      <td>0</td>\n",
       "    </tr>\n",
       "    <tr>\n",
       "      <th>...</th>\n",
       "      <td>...</td>\n",
       "      <td>...</td>\n",
       "      <td>...</td>\n",
       "      <td>...</td>\n",
       "      <td>...</td>\n",
       "      <td>...</td>\n",
       "      <td>...</td>\n",
       "      <td>...</td>\n",
       "      <td>...</td>\n",
       "      <td>...</td>\n",
       "      <td>...</td>\n",
       "      <td>...</td>\n",
       "      <td>...</td>\n",
       "      <td>...</td>\n",
       "      <td>...</td>\n",
       "      <td>...</td>\n",
       "      <td>...</td>\n",
       "      <td>...</td>\n",
       "      <td>...</td>\n",
       "      <td>...</td>\n",
       "      <td>...</td>\n",
       "      <td>...</td>\n",
       "      <td>...</td>\n",
       "      <td>...</td>\n",
       "      <td>...</td>\n",
       "      <td>...</td>\n",
       "      <td>...</td>\n",
       "      <td>...</td>\n",
       "      <td>...</td>\n",
       "      <td>...</td>\n",
       "      <td>...</td>\n",
       "      <td>...</td>\n",
       "      <td>...</td>\n",
       "      <td>...</td>\n",
       "      <td>...</td>\n",
       "      <td>...</td>\n",
       "      <td>...</td>\n",
       "      <td>...</td>\n",
       "      <td>...</td>\n",
       "      <td>...</td>\n",
       "      <td>...</td>\n",
       "      <td>...</td>\n",
       "      <td>...</td>\n",
       "      <td>...</td>\n",
       "      <td>...</td>\n",
       "      <td>...</td>\n",
       "      <td>...</td>\n",
       "      <td>...</td>\n",
       "      <td>...</td>\n",
       "      <td>...</td>\n",
       "      <td>...</td>\n",
       "      <td>...</td>\n",
       "      <td>...</td>\n",
       "      <td>...</td>\n",
       "      <td>...</td>\n",
       "      <td>...</td>\n",
       "      <td>...</td>\n",
       "      <td>...</td>\n",
       "      <td>...</td>\n",
       "      <td>...</td>\n",
       "      <td>...</td>\n",
       "      <td>...</td>\n",
       "      <td>...</td>\n",
       "      <td>...</td>\n",
       "      <td>...</td>\n",
       "      <td>...</td>\n",
       "      <td>...</td>\n",
       "      <td>...</td>\n",
       "      <td>...</td>\n",
       "      <td>...</td>\n",
       "      <td>...</td>\n",
       "      <td>...</td>\n",
       "      <td>...</td>\n",
       "      <td>...</td>\n",
       "      <td>...</td>\n",
       "      <td>...</td>\n",
       "      <td>...</td>\n",
       "    </tr>\n",
       "    <tr>\n",
       "      <th>1304</th>\n",
       "      <td>30.100030</td>\n",
       "      <td>0</td>\n",
       "      <td>0</td>\n",
       "      <td>8.0500</td>\n",
       "      <td>0</td>\n",
       "      <td>0</td>\n",
       "      <td>0</td>\n",
       "      <td>0</td>\n",
       "      <td>0</td>\n",
       "      <td>0</td>\n",
       "      <td>0</td>\n",
       "      <td>0</td>\n",
       "      <td>0</td>\n",
       "      <td>1</td>\n",
       "      <td>0</td>\n",
       "      <td>0</td>\n",
       "      <td>1</td>\n",
       "      <td>0</td>\n",
       "      <td>0</td>\n",
       "      <td>0</td>\n",
       "      <td>0</td>\n",
       "      <td>1</td>\n",
       "      <td>0</td>\n",
       "      <td>0</td>\n",
       "      <td>1</td>\n",
       "      <td>1</td>\n",
       "      <td>0</td>\n",
       "      <td>0</td>\n",
       "      <td>0</td>\n",
       "      <td>0</td>\n",
       "      <td>1</td>\n",
       "      <td>0</td>\n",
       "      <td>0</td>\n",
       "      <td>0</td>\n",
       "      <td>1</td>\n",
       "      <td>0</td>\n",
       "      <td>0</td>\n",
       "      <td>0</td>\n",
       "      <td>0</td>\n",
       "      <td>1</td>\n",
       "      <td>0</td>\n",
       "      <td>0</td>\n",
       "      <td>1</td>\n",
       "      <td>0</td>\n",
       "      <td>0</td>\n",
       "      <td>0</td>\n",
       "      <td>0</td>\n",
       "      <td>0</td>\n",
       "      <td>0</td>\n",
       "      <td>0</td>\n",
       "      <td>0</td>\n",
       "      <td>0</td>\n",
       "      <td>0</td>\n",
       "      <td>0</td>\n",
       "      <td>0</td>\n",
       "      <td>0</td>\n",
       "      <td>0</td>\n",
       "      <td>0</td>\n",
       "      <td>0</td>\n",
       "      <td>0</td>\n",
       "      <td>0</td>\n",
       "      <td>0</td>\n",
       "      <td>0</td>\n",
       "      <td>0</td>\n",
       "      <td>0</td>\n",
       "      <td>0</td>\n",
       "      <td>0</td>\n",
       "      <td>0</td>\n",
       "      <td>0</td>\n",
       "      <td>0</td>\n",
       "      <td>0</td>\n",
       "      <td>0</td>\n",
       "      <td>0</td>\n",
       "      <td>0</td>\n",
       "      <td>0</td>\n",
       "      <td>0</td>\n",
       "      <td>0</td>\n",
       "    </tr>\n",
       "    <tr>\n",
       "      <th>1305</th>\n",
       "      <td>39.000000</td>\n",
       "      <td>0</td>\n",
       "      <td>0</td>\n",
       "      <td>108.9000</td>\n",
       "      <td>1</td>\n",
       "      <td>0</td>\n",
       "      <td>0</td>\n",
       "      <td>1</td>\n",
       "      <td>0</td>\n",
       "      <td>0</td>\n",
       "      <td>0</td>\n",
       "      <td>0</td>\n",
       "      <td>0</td>\n",
       "      <td>0</td>\n",
       "      <td>0</td>\n",
       "      <td>0</td>\n",
       "      <td>0</td>\n",
       "      <td>0</td>\n",
       "      <td>0</td>\n",
       "      <td>1</td>\n",
       "      <td>0</td>\n",
       "      <td>0</td>\n",
       "      <td>0</td>\n",
       "      <td>1</td>\n",
       "      <td>1</td>\n",
       "      <td>1</td>\n",
       "      <td>0</td>\n",
       "      <td>0</td>\n",
       "      <td>1</td>\n",
       "      <td>0</td>\n",
       "      <td>0</td>\n",
       "      <td>0</td>\n",
       "      <td>0</td>\n",
       "      <td>0</td>\n",
       "      <td>1</td>\n",
       "      <td>0</td>\n",
       "      <td>0</td>\n",
       "      <td>1</td>\n",
       "      <td>0</td>\n",
       "      <td>0</td>\n",
       "      <td>0</td>\n",
       "      <td>0</td>\n",
       "      <td>0</td>\n",
       "      <td>0</td>\n",
       "      <td>0</td>\n",
       "      <td>0</td>\n",
       "      <td>0</td>\n",
       "      <td>0</td>\n",
       "      <td>0</td>\n",
       "      <td>0</td>\n",
       "      <td>0</td>\n",
       "      <td>0</td>\n",
       "      <td>0</td>\n",
       "      <td>0</td>\n",
       "      <td>0</td>\n",
       "      <td>1</td>\n",
       "      <td>0</td>\n",
       "      <td>0</td>\n",
       "      <td>0</td>\n",
       "      <td>0</td>\n",
       "      <td>0</td>\n",
       "      <td>0</td>\n",
       "      <td>0</td>\n",
       "      <td>0</td>\n",
       "      <td>0</td>\n",
       "      <td>0</td>\n",
       "      <td>0</td>\n",
       "      <td>0</td>\n",
       "      <td>0</td>\n",
       "      <td>0</td>\n",
       "      <td>0</td>\n",
       "      <td>0</td>\n",
       "      <td>0</td>\n",
       "      <td>0</td>\n",
       "      <td>0</td>\n",
       "      <td>0</td>\n",
       "      <td>0</td>\n",
       "    </tr>\n",
       "    <tr>\n",
       "      <th>1306</th>\n",
       "      <td>38.500000</td>\n",
       "      <td>0</td>\n",
       "      <td>0</td>\n",
       "      <td>7.2500</td>\n",
       "      <td>0</td>\n",
       "      <td>0</td>\n",
       "      <td>0</td>\n",
       "      <td>0</td>\n",
       "      <td>0</td>\n",
       "      <td>0</td>\n",
       "      <td>0</td>\n",
       "      <td>0</td>\n",
       "      <td>0</td>\n",
       "      <td>1</td>\n",
       "      <td>0</td>\n",
       "      <td>0</td>\n",
       "      <td>1</td>\n",
       "      <td>0</td>\n",
       "      <td>0</td>\n",
       "      <td>0</td>\n",
       "      <td>1</td>\n",
       "      <td>0</td>\n",
       "      <td>0</td>\n",
       "      <td>0</td>\n",
       "      <td>1</td>\n",
       "      <td>1</td>\n",
       "      <td>0</td>\n",
       "      <td>0</td>\n",
       "      <td>0</td>\n",
       "      <td>0</td>\n",
       "      <td>1</td>\n",
       "      <td>0</td>\n",
       "      <td>0</td>\n",
       "      <td>0</td>\n",
       "      <td>1</td>\n",
       "      <td>0</td>\n",
       "      <td>0</td>\n",
       "      <td>0</td>\n",
       "      <td>0</td>\n",
       "      <td>1</td>\n",
       "      <td>0</td>\n",
       "      <td>0</td>\n",
       "      <td>0</td>\n",
       "      <td>0</td>\n",
       "      <td>0</td>\n",
       "      <td>0</td>\n",
       "      <td>0</td>\n",
       "      <td>0</td>\n",
       "      <td>0</td>\n",
       "      <td>0</td>\n",
       "      <td>0</td>\n",
       "      <td>0</td>\n",
       "      <td>0</td>\n",
       "      <td>0</td>\n",
       "      <td>0</td>\n",
       "      <td>0</td>\n",
       "      <td>0</td>\n",
       "      <td>0</td>\n",
       "      <td>0</td>\n",
       "      <td>0</td>\n",
       "      <td>0</td>\n",
       "      <td>0</td>\n",
       "      <td>0</td>\n",
       "      <td>0</td>\n",
       "      <td>0</td>\n",
       "      <td>0</td>\n",
       "      <td>0</td>\n",
       "      <td>0</td>\n",
       "      <td>0</td>\n",
       "      <td>1</td>\n",
       "      <td>0</td>\n",
       "      <td>0</td>\n",
       "      <td>0</td>\n",
       "      <td>0</td>\n",
       "      <td>0</td>\n",
       "      <td>0</td>\n",
       "      <td>0</td>\n",
       "    </tr>\n",
       "    <tr>\n",
       "      <th>1307</th>\n",
       "      <td>30.100030</td>\n",
       "      <td>0</td>\n",
       "      <td>0</td>\n",
       "      <td>8.0500</td>\n",
       "      <td>0</td>\n",
       "      <td>0</td>\n",
       "      <td>0</td>\n",
       "      <td>0</td>\n",
       "      <td>0</td>\n",
       "      <td>0</td>\n",
       "      <td>0</td>\n",
       "      <td>0</td>\n",
       "      <td>0</td>\n",
       "      <td>1</td>\n",
       "      <td>0</td>\n",
       "      <td>0</td>\n",
       "      <td>1</td>\n",
       "      <td>0</td>\n",
       "      <td>0</td>\n",
       "      <td>0</td>\n",
       "      <td>0</td>\n",
       "      <td>1</td>\n",
       "      <td>0</td>\n",
       "      <td>0</td>\n",
       "      <td>1</td>\n",
       "      <td>1</td>\n",
       "      <td>0</td>\n",
       "      <td>0</td>\n",
       "      <td>0</td>\n",
       "      <td>0</td>\n",
       "      <td>1</td>\n",
       "      <td>0</td>\n",
       "      <td>0</td>\n",
       "      <td>0</td>\n",
       "      <td>1</td>\n",
       "      <td>0</td>\n",
       "      <td>0</td>\n",
       "      <td>0</td>\n",
       "      <td>0</td>\n",
       "      <td>1</td>\n",
       "      <td>0</td>\n",
       "      <td>0</td>\n",
       "      <td>0</td>\n",
       "      <td>0</td>\n",
       "      <td>0</td>\n",
       "      <td>0</td>\n",
       "      <td>0</td>\n",
       "      <td>0</td>\n",
       "      <td>0</td>\n",
       "      <td>1</td>\n",
       "      <td>0</td>\n",
       "      <td>0</td>\n",
       "      <td>0</td>\n",
       "      <td>0</td>\n",
       "      <td>0</td>\n",
       "      <td>0</td>\n",
       "      <td>0</td>\n",
       "      <td>0</td>\n",
       "      <td>0</td>\n",
       "      <td>0</td>\n",
       "      <td>0</td>\n",
       "      <td>0</td>\n",
       "      <td>0</td>\n",
       "      <td>0</td>\n",
       "      <td>0</td>\n",
       "      <td>0</td>\n",
       "      <td>0</td>\n",
       "      <td>0</td>\n",
       "      <td>0</td>\n",
       "      <td>0</td>\n",
       "      <td>0</td>\n",
       "      <td>0</td>\n",
       "      <td>0</td>\n",
       "      <td>0</td>\n",
       "      <td>0</td>\n",
       "      <td>0</td>\n",
       "      <td>0</td>\n",
       "    </tr>\n",
       "    <tr>\n",
       "      <th>1308</th>\n",
       "      <td>4.641994</td>\n",
       "      <td>1</td>\n",
       "      <td>1</td>\n",
       "      <td>22.3583</td>\n",
       "      <td>0</td>\n",
       "      <td>0</td>\n",
       "      <td>0</td>\n",
       "      <td>0</td>\n",
       "      <td>0</td>\n",
       "      <td>0</td>\n",
       "      <td>0</td>\n",
       "      <td>0</td>\n",
       "      <td>0</td>\n",
       "      <td>1</td>\n",
       "      <td>1</td>\n",
       "      <td>0</td>\n",
       "      <td>0</td>\n",
       "      <td>0</td>\n",
       "      <td>0</td>\n",
       "      <td>0</td>\n",
       "      <td>0</td>\n",
       "      <td>0</td>\n",
       "      <td>1</td>\n",
       "      <td>0</td>\n",
       "      <td>3</td>\n",
       "      <td>0</td>\n",
       "      <td>1</td>\n",
       "      <td>0</td>\n",
       "      <td>1</td>\n",
       "      <td>0</td>\n",
       "      <td>0</td>\n",
       "      <td>1</td>\n",
       "      <td>0</td>\n",
       "      <td>0</td>\n",
       "      <td>0</td>\n",
       "      <td>0</td>\n",
       "      <td>0</td>\n",
       "      <td>0</td>\n",
       "      <td>0</td>\n",
       "      <td>1</td>\n",
       "      <td>0</td>\n",
       "      <td>0</td>\n",
       "      <td>0</td>\n",
       "      <td>0</td>\n",
       "      <td>0</td>\n",
       "      <td>0</td>\n",
       "      <td>0</td>\n",
       "      <td>0</td>\n",
       "      <td>0</td>\n",
       "      <td>1</td>\n",
       "      <td>0</td>\n",
       "      <td>0</td>\n",
       "      <td>0</td>\n",
       "      <td>0</td>\n",
       "      <td>0</td>\n",
       "      <td>0</td>\n",
       "      <td>0</td>\n",
       "      <td>0</td>\n",
       "      <td>0</td>\n",
       "      <td>0</td>\n",
       "      <td>0</td>\n",
       "      <td>0</td>\n",
       "      <td>0</td>\n",
       "      <td>0</td>\n",
       "      <td>0</td>\n",
       "      <td>0</td>\n",
       "      <td>0</td>\n",
       "      <td>0</td>\n",
       "      <td>0</td>\n",
       "      <td>0</td>\n",
       "      <td>0</td>\n",
       "      <td>0</td>\n",
       "      <td>0</td>\n",
       "      <td>0</td>\n",
       "      <td>0</td>\n",
       "      <td>0</td>\n",
       "      <td>0</td>\n",
       "    </tr>\n",
       "  </tbody>\n",
       "</table>"
      ],
      "text/plain": [
       "<IPython.core.display.HTML object>"
      ]
     },
     "metadata": {},
     "output_type": "display_data"
    }
   ],
   "source": [
    "def printall(df, max_rows=10):\n",
    "    from IPython.display import display,HTML\n",
    "    display(HTML(df.to_html(max_rows=max_rows)))\n",
    "\n",
    "printall(combined_df)"
   ]
  },
  {
   "cell_type": "code",
   "execution_count": 109,
   "metadata": {
    "collapsed": true
   },
   "outputs": [],
   "source": [
    "def get_train_test_labels(df):\n",
    "    '''\n",
    "    This function returns the trainning, test and labels set\n",
    "    '''\n",
    "    \n",
    "    train_set = pd.read_csv('./csvs/train.csv')\n",
    "    \n",
    "    labels = train_set.Survived\n",
    "    train_size = len(train_set)\n",
    "    train_df = combined_df.head(train_size)\n",
    "    test_df = combined_df.iloc[train_size:]\n",
    "\n",
    "    return train_df,test_df,labels\n",
    "\n",
    "def create_Random_Forest(X_train,y_train):\n",
    "    '''\n",
    "    Create Random Forest\n",
    "    '''\n",
    "    parameters = {'bootstrap': False, 'min_samples_leaf': 3, 'n_estimators': 1000,'min_samples_split': 50, 'max_features': 'log2', 'max_depth': 8}\n",
    "    clf = RandomForestClassifier(**parameters)\n",
    "    clf.fit(X_train, y_train)\n",
    "    \n",
    "    return clf\n",
    "\n",
    "        \n",
    "def plot_bar_importances(clf,X_train):\n",
    "    '''\n",
    "    plot BAR Importance\n",
    "    '''\n",
    "    \n",
    "    scores = clf.feature_importances_ \n",
    "    features_list = X_train.columns\n",
    "\n",
    "    feature_importances = pd.DataFrame()\n",
    "    feature_importances[\"feature\"] = features_list\n",
    "    feature_importances[\"importance\"] = scores\n",
    "    feature_importances.sort_values(by=[\"importance\"],inplace=True)\n",
    "    feature_importances.set_index('feature',inplace=True)\n",
    "    feature_importances.plot(kind=\"barh\", figsize=(20,20))    \n",
    "    \n"
   ]
  },
  {
   "cell_type": "code",
   "execution_count": 110,
   "metadata": {},
   "outputs": [
    {
     "data": {
      "image/png": "[encoded data removed]",
      "text/plain": [
       "<matplotlib.figure.Figure at 0x1161974a8>"
      ]
     },
     "metadata": {},
     "output_type": "display_data"
    }
   ],
   "source": [
    "train_df,test_df,labels = get_train_test_labels(combined_df)\n",
    "clf = create_Random_Forest(train_df,labels)\n",
    "plot_bar_importances(clf,train_df)\n",
    "plt.savefig('./figs/FeatureSelection.png')"
   ]
  },
  {
   "cell_type": "code",
   "execution_count": 111,
   "metadata": {},
   "outputs": [
    {
     "data": {
      "text/plain": [
       "(891, 15)"
      ]
     },
     "execution_count": 111,
     "metadata": {},
     "output_type": "execute_result"
    }
   ],
   "source": [
    "from sklearn.feature_selection import SelectFromModel\n",
    "model = SelectFromModel(clf, prefit=True)\n",
    "train_reduced = model.transform(train_df)\n",
    "train_reduced.shape"
   ]
  },
  {
   "cell_type": "code",
   "execution_count": 112,
   "metadata": {},
   "outputs": [
    {
     "data": {
      "text/plain": [
       "(418, 15)"
      ]
     },
     "execution_count": 112,
     "metadata": {},
     "output_type": "execute_result"
    }
   ],
   "source": [
    "test_reduced = model.transform(test_df)\n",
    "test_reduced.shape"
   ]
  },
  {
   "cell_type": "markdown",
   "metadata": {},
   "source": [
    "# 4. Model"
   ]
  },
  {
   "cell_type": "markdown",
   "metadata": {},
   "source": [
    "### 4.1 Model Female Sex"
   ]
  },
  {
   "cell_type": "markdown",
   "metadata": {},
   "source": [
    "Data Preparation"
   ]
  },
  {
   "cell_type": "code",
   "execution_count": 113,
   "metadata": {
    "collapsed": true
   },
   "outputs": [],
   "source": [
    "women_df = train_df[[\"Sex_female\"]]\n",
    "women_labels = labels"
   ]
  },
  {
   "cell_type": "code",
   "execution_count": 114,
   "metadata": {
    "collapsed": true
   },
   "outputs": [],
   "source": [
    "X_train, X_test, y_train, y_test = train_test_split(women_df, women_labels, test_size=0.30, random_state=42)"
   ]
  },
  {
   "cell_type": "markdown",
   "metadata": {},
   "source": [
    "Auxiliar Function"
   ]
  },
  {
   "cell_type": "code",
   "execution_count": 115,
   "metadata": {
    "collapsed": true
   },
   "outputs": [],
   "source": [
    "from sklearn.linear_model import LogisticRegression\n",
    "from sklearn.metrics import accuracy_score\n",
    "\n",
    "def create_model_LogisticRegression(X_train,y_train):\n",
    "    '''\n",
    "    This function will create a Logistic Regression Model\n",
    "    '''\n",
    "    clf = LogisticRegression()\n",
    "    clf.fit(X_train,y_train)\n",
    "    \n",
    "    return clf;\n",
    "\n",
    "def compute_accuracy(clf,X_test,y_test):\n",
    "    '''\n",
    "    This function will compute the accuracy\n",
    "    '''\n",
    "    predict = clf.predict(X_test)\n",
    "    print(\"Predict:\",accuracy_score(y_test,predict)) \n",
    "\n",
    "def compute_female_labels(value,X_train,y_train):\n",
    "    '''\n",
    "    This function will create the labels for women\n",
    "    '''\n",
    "    w_labels = []\n",
    "    y_train_index = y_train.index.tolist()\n",
    "    for index,element in enumerate(X_train[\"Sex_female\"]):\n",
    "        if element == 1:\n",
    "            w_labels.append(value)\n",
    "        else:\n",
    "            w_labels.append(y_train.loc[y_train_index[index]])\n",
    "    return w_labels\n",
    "\n",
    "def compute_survival_rate(survived,X_train,y_train,X_test,y_test):\n",
    "    '''\n",
    "    This function will compute the survival rate given a survived or not value\n",
    "    '''\n",
    "    w_labels = compute_female_labels(survived,X_train,y_train);    \n",
    "    clf = create_model_LogisticRegression(X_train,w_labels)\n",
    "    compute_accuracy(clf,X_test,y_test)\n"
   ]
  },
  {
   "cell_type": "markdown",
   "metadata": {},
   "source": [
    "#### Model predicted for using current training set"
   ]
  },
  {
   "cell_type": "code",
   "execution_count": 116,
   "metadata": {},
   "outputs": [
    {
     "name": "stdout",
     "output_type": "stream",
     "text": [
      "Predict: 0.791044776119\n"
     ]
    }
   ],
   "source": [
    "clf = create_model_LogisticRegression(X_train,y_train)\n",
    "compute_accuracy(clf,X_test,y_test)"
   ]
  },
  {
   "cell_type": "markdown",
   "metadata": {},
   "source": [
    "#### Model predicted for every women_died "
   ]
  },
  {
   "cell_type": "code",
   "execution_count": 117,
   "metadata": {},
   "outputs": [
    {
     "name": "stdout",
     "output_type": "stream",
     "text": [
      "Predict: 0.585820895522\n"
     ]
    }
   ],
   "source": [
    "survived = 0\n",
    "compute_survival_rate(survived,X_train,y_train,X_test,y_test)"
   ]
  },
  {
   "cell_type": "markdown",
   "metadata": {},
   "source": [
    "#### Model predicted for every women_survived "
   ]
  },
  {
   "cell_type": "code",
   "execution_count": 118,
   "metadata": {},
   "outputs": [
    {
     "name": "stdout",
     "output_type": "stream",
     "text": [
      "Predict: 0.791044776119\n"
     ]
    }
   ],
   "source": [
    "survived = 1\n",
    "compute_survival_rate(survived,X_train,y_train,X_test,y_test)"
   ]
  },
  {
   "cell_type": "markdown",
   "metadata": {},
   "source": [
    "**Conclussion**\n",
    "\n",
    "We got that the model predicted that every women survived (79.10%) is better than one that every died 58.58%).\n",
    "We got a result that is equal than to the actual value."
   ]
  },
  {
   "cell_type": "markdown",
   "metadata": {},
   "source": [
    "### Model for prediction of survival"
   ]
  },
  {
   "cell_type": "markdown",
   "metadata": {},
   "source": [
    "For predicting the survival I tested with decision tree and AdaBoost and Random Forest. Those two are solutions that\n",
    "use decision trees but ensemble it. Random Forest creates random decisision Trees and take the mean result to predict\n",
    "while Adaboost creates a sequence of weak learners on repeatedly modified versions of the data.Prediction from all are \n",
    "combined and weigthed to produce the final prediction.\n",
    "Then at the final I decided to use random forest."
   ]
  },
  {
   "cell_type": "code",
   "execution_count": 119,
   "metadata": {
    "collapsed": true
   },
   "outputs": [],
   "source": [
    "def compute_score(clf, X, y, scoring='accuracy'):\n",
    "    '''\n",
    "    Calculates the scoring of the model.\n",
    "    '''\n",
    "    xval = cross_val_score(clf, X, y, cv = 5, scoring=scoring)\n",
    "    return np.mean(xval)"
   ]
  },
  {
   "cell_type": "markdown",
   "metadata": {},
   "source": [
    "### Decision Tree"
   ]
  },
  {
   "cell_type": "code",
   "execution_count": 120,
   "metadata": {
    "collapsed": true
   },
   "outputs": [],
   "source": [
    "clf = tree.DecisionTreeClassifier(random_state=0)"
   ]
  },
  {
   "cell_type": "code",
   "execution_count": 121,
   "metadata": {
    "collapsed": true
   },
   "outputs": [],
   "source": [
    "clf = clf.fit(train_reduced, labels)"
   ]
  },
  {
   "cell_type": "code",
   "execution_count": 122,
   "metadata": {},
   "outputs": [
    {
     "name": "stdout",
     "output_type": "stream",
     "text": [
      "The value for Decision Tree is: 0.785578662502\n"
     ]
    }
   ],
   "source": [
    "accuracy = compute_score(clf, train_reduced, labels, scoring='accuracy')\n",
    "print(\"The value for Decision Tree is:\",accuracy)"
   ]
  },
  {
   "cell_type": "markdown",
   "metadata": {},
   "source": [
    "Exporting the decission tree model. "
   ]
  },
  {
   "cell_type": "code",
   "execution_count": 123,
   "metadata": {
    "collapsed": true
   },
   "outputs": [],
   "source": [
    "with open(\"tree.dot\", 'w') as f:\n",
    "    f = tree.export_graphviz(clf, out_file=f)"
   ]
  },
  {
   "cell_type": "markdown",
   "metadata": {},
   "source": [
    "### Ensemble Models"
   ]
  },
  {
   "cell_type": "markdown",
   "metadata": {},
   "source": [
    "### AdaBoost"
   ]
  },
  {
   "cell_type": "code",
   "execution_count": 124,
   "metadata": {
    "collapsed": true
   },
   "outputs": [],
   "source": [
    "from sklearn.ensemble import AdaBoostClassifier\n",
    "clf = AdaBoostClassifier(n_estimators=1000)"
   ]
  },
  {
   "cell_type": "code",
   "execution_count": 125,
   "metadata": {},
   "outputs": [
    {
     "name": "stdout",
     "output_type": "stream",
     "text": [
      "The value for Adaboost is: 0.811484484466\n"
     ]
    }
   ],
   "source": [
    "accuracy = compute_score(clf, train_reduced, labels, scoring='accuracy')\n",
    "print(\"The value for Adaboost is:\",accuracy)"
   ]
  },
  {
   "cell_type": "markdown",
   "metadata": {},
   "source": [
    "### Random Forest"
   ]
  },
  {
   "cell_type": "code",
   "execution_count": 126,
   "metadata": {},
   "outputs": [
    {
     "data": {
      "text/plain": [
       "RandomForestClassifier(bootstrap=False, class_weight=None, criterion='gini',\n",
       "            max_depth=8, max_features='sqrt', max_leaf_nodes=None,\n",
       "            min_impurity_split=1e-07, min_samples_leaf=1,\n",
       "            min_samples_split=10, min_weight_fraction_leaf=0.0,\n",
       "            n_estimators=1000, n_jobs=1, oob_score=False,\n",
       "            random_state=None, verbose=0, warm_start=False)"
      ]
     },
     "execution_count": 126,
     "metadata": {},
     "output_type": "execute_result"
    }
   ],
   "source": [
    "parameters = {'bootstrap': False, 'max_depth': 8, 'max_features': 'sqrt', 'min_samples_leaf': 1, \n",
    "              'min_samples_split': 10, 'n_estimators': 1000}\n",
    "\n",
    "clf = RandomForestClassifier(**parameters)\n",
    "clf.fit(train_reduced, labels)"
   ]
  },
  {
   "cell_type": "code",
   "execution_count": 127,
   "metadata": {},
   "outputs": [
    {
     "name": "stdout",
     "output_type": "stream",
     "text": [
      "The value for Adaboost is: 0.831691010704\n"
     ]
    }
   ],
   "source": [
    "accuracy = compute_score(clf, train_reduced, labels, scoring='accuracy')\n",
    "print(\"The value for Adaboost is:\",accuracy)"
   ]
  },
  {
   "cell_type": "markdown",
   "metadata": {},
   "source": [
    "# 5. Tuning Parameters and Validation"
   ]
  },
  {
   "cell_type": "markdown",
   "metadata": {},
   "source": [
    "In this step we will tune Random Forest and use Cross Validation and GridSearchCV."
   ]
  },
  {
   "cell_type": "markdown",
   "metadata": {},
   "source": [
    "Functions for cross validation and GridSearch"
   ]
  },
  {
   "cell_type": "code",
   "execution_count": 128,
   "metadata": {
    "collapsed": true
   },
   "outputs": [],
   "source": [
    "def init_cross_validation(train_reduced, labels):\n",
    "    \n",
    "    cross_validation = StratifiedKFold(n_splits=5)\n",
    "    cross_validation.get_n_splits(train_reduced, labels)\n",
    "    \n",
    "    return cross_validation;\n",
    "\n",
    "def generate_grid_search_model(model,parameters,train_reduced,labels):\n",
    "    \n",
    "    cross_validation = init_cross_validation(train_reduced, labels);\n",
    "    \n",
    "    grid_search = GridSearchCV(model,\n",
    "                               scoring='accuracy',\n",
    "                               param_grid = parameters,\n",
    "                               cv = cross_validation)\n",
    "\n",
    "    grid_search.fit(train_reduced, labels)\n",
    "    model = grid_search\n",
    "    parameters = grid_search.best_params_\n",
    "\n",
    "    print('Best score: {}'.format(grid_search.best_score_))\n",
    "    print('Best parameters: {}'.format(grid_search.best_params_))\n",
    "    \n",
    "    return model\n"
   ]
  },
  {
   "cell_type": "code",
   "execution_count": 129,
   "metadata": {
    "collapsed": true
   },
   "outputs": [],
   "source": [
    "def create_random_forest(train_reduced,labels,run_grid_search=False):\n",
    "    \n",
    "    if run_grid_search:\n",
    "        \n",
    "        parameter_grid = {\n",
    "            'max_depth' : [4, 6, 8],\n",
    "            'n_estimators': [50,1000],\n",
    "            'max_features': ['sqrt', 'auto', 'log2'],\n",
    "            'min_samples_split': [3, 10],\n",
    "            'min_samples_leaf': [1, 3, 10],\n",
    "            'bootstrap': [True, False],\n",
    "        }\n",
    "        clf = RandomForestClassifier()\n",
    "        clf = generate_grid_search_model(clf,parameter_grid,train_reduced,labels)\n",
    "    else: \n",
    "        parameters = {'bootstrap': False, 'max_depth': 6, 'max_features': 'sqrt',\n",
    "                      'min_samples_leaf': 1, 'min_samples_split': 10, 'n_estimators': 1000}\n",
    "\n",
    "        clf = RandomForestClassifier(**parameters)\n",
    "        clf.fit(train_reduced, labels)\n",
    "\n",
    "    return clf"
   ]
  },
  {
   "cell_type": "code",
   "execution_count": 130,
   "metadata": {
    "collapsed": true
   },
   "outputs": [],
   "source": [
    "model = create_random_forest(train_reduced,labels,run_grid_search=False)"
   ]
  },
  {
   "cell_type": "markdown",
   "metadata": {},
   "source": [
    "# 6. Evaluation"
   ]
  },
  {
   "cell_type": "code",
   "execution_count": 131,
   "metadata": {},
   "outputs": [
    {
     "data": {
      "text/plain": [
       "0.82717772654459354"
      ]
     },
     "execution_count": 131,
     "metadata": {},
     "output_type": "execute_result"
    }
   ],
   "source": [
    "compute_score(model, train_reduced, labels, scoring='accuracy')"
   ]
  },
  {
   "cell_type": "markdown",
   "metadata": {},
   "source": [
    "## 7. Output"
   ]
  },
  {
   "cell_type": "code",
   "execution_count": 132,
   "metadata": {
    "collapsed": true
   },
   "outputs": [],
   "source": [
    "output = model.predict(test_reduced).astype(int)\n",
    "df_output = pd.DataFrame()\n",
    "aux = pd.read_csv('./csvs/test.csv')\n",
    "df_output['PassengerId'] = aux['PassengerId']\n",
    "df_output['Survived'] = output\n",
    "df_output[['PassengerId','Survived']].to_csv('./csvs/output.csv',index=False)"
   ]
  },
  {
   "cell_type": "markdown",
   "metadata": {},
   "source": [
    "# References"
   ]
  },
  {
   "cell_type": "markdown",
   "metadata": {},
   "source": [
    "- https://www.britannica.com/topic/Titanic \n",
    "\n",
    "- http://www.titanicfacts.net/\n",
    "\n",
    "- https://www.kaggle.com/c/titanic  \n",
    "\n",
    "- https://www.kaggle.com/helgejo/an-interactive-data-science-tutorial\n",
    "\n",
    "- http://www.ultravioletanalytics.com/2014/11/03/kaggle-titanic-competition-part-ii-missing-values/  "
   ]
  }
 ],
 "metadata": {
  "kernelspec": {
   "display_name": "Python 3",
   "language": "python",
   "name": "python3"
  },
  "language_info": {
   "codemirror_mode": {
    "name": "ipython",
    "version": 3
   },
   "file_extension": ".py",
   "mimetype": "text/x-python",
   "name": "python",
   "nbconvert_exporter": "python",
   "pygments_lexer": "ipython3",
   "version": "3.6.1"
  }
 },
 "nbformat": 4,
 "nbformat_minor": 1
}
